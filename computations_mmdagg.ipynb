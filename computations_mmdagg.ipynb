{
 "cells": [
  {
   "cell_type": "markdown",
   "metadata": {
    "tags": []
   },
   "source": [
    "# MMDAgg experiments"
   ]
  },
  {
   "cell_type": "markdown",
   "metadata": {},
   "source": [
    "This notebook contains the experiments with the updated version of MMDAgg.\n",
    "\n",
    "The numbering of the experiments corresponds to the one in the file experiments.py.\n",
    "\n",
    "The results are saved in the \"results\" directiory."
   ]
  },
  {
   "cell_type": "code",
   "execution_count": null,
   "metadata": {},
   "outputs": [],
   "source": [
    "import numpy as np\n",
    "from seed import generate_seed\n",
    "from sampling import f_theta_sampler\n",
    "from mmdagg.np import mmdagg\n",
    "from pathlib import Path\n",
    "Path(\"results\").mkdir(exist_ok=True, parents=True)\n",
    "from mnist import load_mnist\n",
    "P, Q_list = load_mnist()"
   ]
  },
  {
   "cell_type": "code",
   "execution_count": null,
   "metadata": {},
   "outputs": [],
   "source": [
    "def sample_and_test_uniform(\n",
    "    function_type, seed, kernel_type, approx_type, m, n, d, p, s, \n",
    "    perturbation_multiplier, alpha, l_minus, l_plus, B1, B2, B3, bandwidth_multipliers, number_bandwidths=10,\n",
    "):  \n",
    "    \"\"\"\n",
    "    Sample from uniform and perturbed uniform density and run two-sample test.\n",
    "    inputs: function_type: \"uniform\", \"increasing\", \"decreasing\", \"centred\", \"ost\", \n",
    "                           \"median\", \"split\", \"split (doubled sample sizes)\" or \"mmdagg_update\"\n",
    "            seed: integer random seed\n",
    "            kernel_type: \"gaussian\" or \"laplace\": \n",
    "            approx_type: \"permutation\" (for MMD_a estimate Eq. (3)) \n",
    "                         or \"wild bootstrap\" (for MMD_b estimate Eq. (6))\n",
    "            m: non-negative integer (sample size for uniform distribution)\n",
    "            n: non-negative integer (sample size for perturbed uniform distribution)\n",
    "            d: non-negative integer (dimension of samples)\n",
    "            p: non-negative integer (number of permutations)\n",
    "            s: positive number (smoothness parameter of Sobolev ball (Eq. (1))\n",
    "            perturbation_multiplier: perturbation_multiplier: positive number (c_d in Eq. (17)) \n",
    "            alpha: real number in (0,1) (level of the test)\n",
    "            l_minus: integer (for collection of bandwidths Eq. (16) in our paper)\n",
    "            l_plus: integer (for collection of bandwidths Eq. (16) in our paper)\n",
    "            B1: number of simulated test statistics to estimate the quantiles\n",
    "            B2: number of simulated test statistics to estimate the probability in Eq. (13) in our paper\n",
    "            B3: number of iterations for the bisection method\n",
    "            bandwidth_multipliers: array such that mmd_split_test function (used for \"split\" \n",
    "                                   and \"split (doubled sample sizes)\") selects 'optimal' bandwidth from\n",
    "                                   collection_bandwidths = [c*bandwidth_median for c in bandwidth_multipliers]\n",
    "    output: result of test (1 for \"REJECT H_0\" and 0 for \"FAIL TO REJECT H_0\")\n",
    "    \"\"\"\n",
    "    if function_type == \"split (doubled sample sizes)\":\n",
    "        m = 2 * m\n",
    "        n = 2 * n\n",
    "    rs = np.random.RandomState(seed)\n",
    "    if p == 0:\n",
    "        X = rs.uniform(0, 1, (m, d)) \n",
    "        Y = rs.uniform(0, 1, (n, d))         \n",
    "    else:\n",
    "        X = f_theta_sampler(seed + 1, seed + 2, m, p, s, perturbation_multiplier, d)\n",
    "        Y = rs.uniform(0, 1, (n, d))\n",
    "    if function_type == \"median\":\n",
    "        return mmd_median_test(\n",
    "            seed, X, Y, alpha, kernel_type, approx_type, B1, bandwidth_multiplier=1\n",
    "        )\n",
    "    elif function_type in [\"split\", \"split (doubled sample sizes)\"]:\n",
    "        return mmd_split_test(\n",
    "            seed, X, Y, alpha, kernel_type, approx_type, B1, bandwidth_multipliers\n",
    "        )\n",
    "    elif function_type == \"ost\":\n",
    "        return ost(seed, X, Y, alpha, kernel_type, l_minus, l_plus)\n",
    "    elif function_type in [\"uniform\", \"increasing\", \"decreasing\", \"centred\"]:\n",
    "        return mmdagg(\n",
    "            seed, X, Y, alpha, kernel_type, approx_type, \n",
    "            function_type, l_minus, l_plus, B1, B2, B3\n",
    "        )\n",
    "    elif function_type == \"mmdagg_update\":\n",
    "        if approx_type == \"permutation\":\n",
    "            permutations_same_sample_size = True\n",
    "        elif approx_type == \"wild bootstrap\" or approx_type == \"wild_bootstrap\": \n",
    "            permutations_same_sample_size = False\n",
    "        else:\n",
    "            raise ValueError('approx_type should be \"permutation\" or \"wild bootstrap\".')\n",
    "        return mmdagg_update(\n",
    "            X,\n",
    "            Y,\n",
    "            kernel=kernel_type,\n",
    "            B1=B1,\n",
    "            B2=B2,\n",
    "            B3=B3,\n",
    "            number_bandwidths=number_bandwidths,\n",
    "            seed=seed,\n",
    "            permutations_same_sample_size=permutations_same_sample_size,\n",
    "        )\n",
    "    elif function_type == \"autotst\":\n",
    "        tst = autotst.AutoTST(X, Y)\n",
    "        p_value = tst.p_value()\n",
    "        output = int(p_value <= alpha)\n",
    "        return output\n",
    "    else:\n",
    "        raise ValueError(\n",
    "            'Undefined function_type: function_type should be \"median\", \"split\",' \n",
    "            '\"split (doubled sample sizes)\", \"ost\", \"uniform\", \"increasing\", '\n",
    "            '\"decreasing\" or \"centred\".'\n",
    "        )  \n",
    "\n",
    "        \n",
    "def sample_and_test_mnist(\n",
    "    P, Q, function_type, seed, kernel_type, approx_type, m, n, \n",
    "    alpha, l_minus, l_plus, B1, B2, B3, bandwidth_multipliers, number_bandwidths=10,\n",
    "):  \n",
    "    \"\"\"\n",
    "    Sample from dataset P and dataset Q and run two-sample test.\n",
    "    inputs: P: dataset of shape (number_points, dimension) from which to sample\n",
    "            Q: dataset of shape (number_points, dimension) from which to sample\n",
    "            function_type: \"uniform\", \"increasing\", \"decreasing\", \"centred\", \"ost\", \n",
    "                           \"median\", \"split\" or \"split (doubled sample sizes)\"\n",
    "            seed: integer random seed\n",
    "            kernel_type: \"gaussian\" or \"laplace\":\n",
    "            approx_type: \"permutation\" (for MMD_a estimate Eq. (3)) \n",
    "                         or \"wild bootstrap\" (for MMD_b estimate Eq. (6))\n",
    "            m: non-negative integer (sample size for uniform distribution)\n",
    "            n: non-negative integer (sample size for perturbed uniform distribution)\n",
    "            alpha: real number in (0,1) (level of the test)\n",
    "            l_minus: integer (for collection of bandwidths Eq. (16) in our paper)\n",
    "            l_plus: integer (for collection of bandwidths Eq. (16) in our paper)\n",
    "            B1: number of simulated test statistics to estimate the quantiles\n",
    "            B2: number of simulated test statistics to estimate the probability in Eq. (13) in our paper\n",
    "            B3: number of iterations for the bisection method\n",
    "            bandwidth_multipliers: array such that mmd_split_test function (used for \"split\" \n",
    "                                   and \"split (doubled sample sizes)\") selects 'optimal' bandwidth from\n",
    "                                   collection_bandwidths = [c*bandwidth for c in bandwidth_multipliers]\n",
    "    output: result of test (1 for \"REJECT H_0\" and 0 for \"FAIL TO REJECT H_0\")\n",
    "    \"\"\"\n",
    "    rs = np.random.RandomState(seed)\n",
    "    if function_type == \"split (doubled sample sizes)\":\n",
    "        m = 2 * m\n",
    "        n = 2 * n \n",
    "    idx_X = rs.randint(len(P), size=m)\n",
    "    X = P[idx_X, :]\n",
    "    idx_Y = rs.randint(len(Q), size=n)\n",
    "    Y = Q[idx_Y, :]\n",
    "    if function_type == \"median\":\n",
    "        return mmd_median_test(\n",
    "            seed, X, Y, alpha, kernel_type, approx_type, B1, bandwidth_multiplier=1\n",
    "        )\n",
    "    elif function_type in [\"split\", \"split (doubled sample sizes)\"]:\n",
    "        return mmd_split_test(\n",
    "            seed, X, Y, alpha, kernel_type, approx_type, B1, bandwidth_multipliers\n",
    "        )\n",
    "    elif function_type == \"ost\":\n",
    "        return ost(seed, X, Y, alpha, kernel_type, l_minus, l_plus)\n",
    "    elif function_type in [\"uniform\", \"increasing\", \"decreasing\", \"centred\"]:\n",
    "        return mmdagg(\n",
    "            seed, X, Y, alpha, kernel_type, approx_type, \n",
    "            function_type, l_minus, l_plus, B1, B2, B3\n",
    "        )\n",
    "    elif function_type == \"mmdagg_update\":\n",
    "        if approx_type == \"permutation\":\n",
    "            permutations_same_sample_size = True\n",
    "        elif approx_type == \"wild bootstrap\" or approx_type == \"wild_bootstrap\": \n",
    "            permutations_same_sample_size = False\n",
    "        else:\n",
    "            raise ValueError('approx_type should be \"permutation\" or \"wild bootstrap\".')\n",
    "        return mmdagg_update(\n",
    "            X,\n",
    "            Y,\n",
    "            kernel=kernel_type,\n",
    "            B1=B1,\n",
    "            B2=B2,\n",
    "            B3=B3,\n",
    "            number_bandwidths=number_bandwidths,\n",
    "            seed=seed,\n",
    "            permutations_same_sample_size=permutations_same_sample_size,\n",
    "        )\n",
    "    elif function_type == \"autotst\":\n",
    "        tst = autotst.AutoTST(X, Y)\n",
    "        p_value = tst.p_value()\n",
    "        output = int(p_value <= alpha)\n",
    "        return output\n",
    "    else:\n",
    "        raise ValueError(\n",
    "            'Undefined function_type: function_type should be \"median\", \"split\",' \n",
    "            '\"split (doubled sample sizes)\", \"ost\", \"uniform\", \"increasing\", '\n",
    "            '\"decreasing\" or \"centred\".'\n",
    "        )"
   ]
  },
  {
   "cell_type": "markdown",
   "metadata": {
    "tags": []
   },
   "source": [
    "# Experiment 1"
   ]
  },
  {
   "cell_type": "markdown",
   "metadata": {},
   "source": [
    "Figure 3a, Figure 3b"
   ]
  },
  {
   "cell_type": "code",
   "execution_count": 4,
   "metadata": {},
   "outputs": [],
   "source": [
    "def experiment1(j, approx_type=\"wild bootstrap\"):\n",
    "    \n",
    "    number_bandwidths = 10\n",
    "    B1 = B2 = 2000\n",
    "    B3 = 50\n",
    "    kernel_types = [\"laplace_gaussian\", \"laplace\", \"gaussian\", \"all\"]\n",
    "    \n",
    "    \n",
    "    dataset = \"uniform\"\n",
    "    bandwidth_multipliers = None\n",
    "    sample_sizes = [500, 2000]\n",
    "    N_epochs = 500\n",
    "    alpha = 0.05\n",
    "    delta = 1\n",
    "    perturbation_multipliers = [2.7, 7.3]\n",
    "    perturbations = [4, 3]\n",
    "    R = [(0, 10), ]\n",
    "    r_num = len(R)\n",
    "    k_num = len(kernel_types)\n",
    "    function_types = [\"mmdagg_update\", ]\n",
    "    f_num = len(function_types)\n",
    "    if approx_type == \"wild bootstrap\":\n",
    "        app = \"a\"\n",
    "    elif approx_type == \"permutation\":\n",
    "        app = \"b\"\n",
    "        \n",
    "    ekr = [(e,k,r) for e in range(2) for k in range(k_num) for r in range(r_num)]\n",
    "    e,k,r = ekr[j]\n",
    "\n",
    "    d = e + 1\n",
    "    p_num = perturbations[e]\n",
    "    perturbation_multiplier = perturbation_multipliers[e]\n",
    "    kernel_type = kernel_types[k]\n",
    "    r_min, r_max = R[r]\n",
    "    n = m = sample_sizes[e]\n",
    "  \n",
    "    print(\"sample size\", sample_sizes[e])\n",
    "    print(\"kernel\", kernel_type)\n",
    "    print(\"number bandwidths\", number_bandwidths)\n",
    "    print(\"B1\", B1)\n",
    "    print(\"B2\", B2)\n",
    "    print(\"B3\", B3)\n",
    "    print(\" \")\n",
    "\n",
    "    jobs = [[[] for p in range(p_num)] for w in range(f_num)] \n",
    "\n",
    "    k = 1 # same data for different kernels\n",
    "    for w in range(f_num):\n",
    "        function_type = function_types[w]\n",
    "        for p in range(p_num):\n",
    "            h = 1 / (p + 1)\n",
    "            for i in range(N_epochs):\n",
    "                seed = generate_seed(k, e, r, w, p, i)\n",
    "                jobs[w][p].append(sample_and_test_uniform( \n",
    "                    function_type, \n",
    "                    seed, \n",
    "                    kernel_type, \n",
    "                    approx_type, \n",
    "                    m, n, d, p + 1, delta, perturbation_multiplier, \n",
    "                    alpha, r_min, r_max, B1, B2, B3, \n",
    "                    bandwidth_multipliers,\n",
    "                    number_bandwidths=number_bandwidths,\n",
    "                ))\n",
    "\n",
    "    results = [[jobs[w][p] for p in range(p_num)] for w in range(f_num)] \n",
    "    power   = [[sum(results[w][p]) / N_epochs for p in range(p_num)] for w in range(f_num)]\n",
    "    print(power)\n",
    " \n",
    "    return power"
   ]
  },
  {
   "cell_type": "code",
   "execution_count": 6,
   "metadata": {},
   "outputs": [
    {
     "name": "stdout",
     "output_type": "stream",
     "text": [
      "sample size 500\n",
      "kernel laplace_gaussian\n",
      "number bandwidths 10\n",
      "B1 2000\n",
      "B2 2000\n",
      "B3 50\n",
      " \n",
      "[[1.0, 0.988, 0.602, 0.228]]\n"
     ]
    }
   ],
   "source": [
    "i = 0\n",
    "power = experiment1(i)\n",
    "np.save(\"results/exp1_\" + str(i) + \".npy\", power[0])"
   ]
  },
  {
   "cell_type": "code",
   "execution_count": 7,
   "metadata": {},
   "outputs": [
    {
     "name": "stdout",
     "output_type": "stream",
     "text": [
      "sample size 500\n",
      "kernel laplace\n",
      "number bandwidths 10\n",
      "B1 2000\n",
      "B2 2000\n",
      "B3 50\n",
      " \n",
      "[[1.0, 0.99, 0.596, 0.216]]\n"
     ]
    }
   ],
   "source": [
    "i = 1\n",
    "power = experiment1(i)\n",
    "np.save(\"results/exp1_\" + str(i) + \".npy\", power[0])"
   ]
  },
  {
   "cell_type": "code",
   "execution_count": 8,
   "metadata": {},
   "outputs": [
    {
     "name": "stdout",
     "output_type": "stream",
     "text": [
      "sample size 500\n",
      "kernel gaussian\n",
      "number bandwidths 10\n",
      "B1 2000\n",
      "B2 2000\n",
      "B3 50\n",
      " \n",
      "[[1.0, 0.988, 0.602, 0.226]]\n"
     ]
    }
   ],
   "source": [
    "i = 2\n",
    "power = experiment1(i)\n",
    "np.save(\"results/exp1_\" + str(i) + \".npy\", power[0])"
   ]
  },
  {
   "cell_type": "code",
   "execution_count": 9,
   "metadata": {},
   "outputs": [
    {
     "name": "stdout",
     "output_type": "stream",
     "text": [
      "sample size 500\n",
      "kernel all\n",
      "number bandwidths 10\n",
      "B1 2000\n",
      "B2 2000\n",
      "B3 50\n",
      " \n",
      "[[1.0, 0.988, 0.602, 0.228]]\n"
     ]
    }
   ],
   "source": [
    "i = 3\n",
    "power = experiment1(i)\n",
    "np.save(\"results/exp1_\" + str(i) + \".npy\", power[0])"
   ]
  },
  {
   "cell_type": "code",
   "execution_count": null,
   "metadata": {},
   "outputs": [],
   "source": []
  },
  {
   "cell_type": "code",
   "execution_count": 10,
   "metadata": {},
   "outputs": [
    {
     "name": "stdout",
     "output_type": "stream",
     "text": [
      "sample size 2000\n",
      "kernel laplace_gaussian\n",
      "number bandwidths 10\n",
      "B1 2000\n",
      "B2 2000\n",
      "B3 50\n",
      " \n",
      "[[1.0, 0.982, 0.26]]\n"
     ]
    }
   ],
   "source": [
    "i = 4\n",
    "power = experiment1(i)\n",
    "np.save(\"results/exp1_\" + str(i) + \".npy\", power[0])"
   ]
  },
  {
   "cell_type": "code",
   "execution_count": 11,
   "metadata": {},
   "outputs": [
    {
     "name": "stdout",
     "output_type": "stream",
     "text": [
      "sample size 2000\n",
      "kernel laplace\n",
      "number bandwidths 10\n",
      "B1 2000\n",
      "B2 2000\n",
      "B3 50\n",
      " \n",
      "[[1.0, 0.934, 0.134]]\n"
     ]
    }
   ],
   "source": [
    "i = 5\n",
    "power = experiment1(i)\n",
    "np.save(\"results/exp1_\" + str(i) + \".npy\", power[0])"
   ]
  },
  {
   "cell_type": "code",
   "execution_count": 12,
   "metadata": {},
   "outputs": [
    {
     "name": "stdout",
     "output_type": "stream",
     "text": [
      "sample size 2000\n",
      "kernel gaussian\n",
      "number bandwidths 10\n",
      "B1 2000\n",
      "B2 2000\n",
      "B3 50\n",
      " \n",
      "[[1.0, 0.982, 0.266]]\n"
     ]
    }
   ],
   "source": [
    "i = 6\n",
    "power = experiment1(i)\n",
    "np.save(\"results/exp1_\" + str(i) + \".npy\", power[0])"
   ]
  },
  {
   "cell_type": "code",
   "execution_count": 13,
   "metadata": {},
   "outputs": [
    {
     "name": "stdout",
     "output_type": "stream",
     "text": [
      "sample size 2000\n",
      "kernel all\n",
      "number bandwidths 10\n",
      "B1 2000\n",
      "B2 2000\n",
      "B3 50\n",
      " \n",
      "[[1.0, 0.978, 0.252]]\n"
     ]
    }
   ],
   "source": [
    "i = 7\n",
    "power = experiment1(i)\n",
    "np.save(\"results/exp1_\" + str(i) + \".npy\", power[0])"
   ]
  },
  {
   "cell_type": "markdown",
   "metadata": {
    "tags": []
   },
   "source": [
    "# Experiment 1 bis"
   ]
  },
  {
   "cell_type": "markdown",
   "metadata": {},
   "source": [
    "Figure 5a, Figure 5b"
   ]
  },
  {
   "cell_type": "code",
   "execution_count": 14,
   "metadata": {},
   "outputs": [
    {
     "name": "stdout",
     "output_type": "stream",
     "text": [
      "sample size 500\n",
      "kernel laplace_gaussian\n",
      "number bandwidths 10\n",
      "B1 2000\n",
      "B2 2000\n",
      "B3 50\n",
      " \n",
      "[[1.0, 0.988, 0.62, 0.23]]\n"
     ]
    }
   ],
   "source": [
    "i = 0\n",
    "power = experiment1(i, \"permutation\")\n",
    "np.save(\"results/exp1bis_\" + str(i) + \".npy\", power[0])"
   ]
  },
  {
   "cell_type": "code",
   "execution_count": 15,
   "metadata": {},
   "outputs": [
    {
     "name": "stdout",
     "output_type": "stream",
     "text": [
      "sample size 500\n",
      "kernel laplace\n",
      "number bandwidths 10\n",
      "B1 2000\n",
      "B2 2000\n",
      "B3 50\n",
      " \n",
      "[[1.0, 0.99, 0.606, 0.21]]\n"
     ]
    }
   ],
   "source": [
    "i = 1\n",
    "power = experiment1(i, \"permutation\")\n",
    "np.save(\"results/exp1bis_\" + str(i) + \".npy\", power[0])"
   ]
  },
  {
   "cell_type": "code",
   "execution_count": 16,
   "metadata": {},
   "outputs": [
    {
     "name": "stdout",
     "output_type": "stream",
     "text": [
      "sample size 500\n",
      "kernel gaussian\n",
      "number bandwidths 10\n",
      "B1 2000\n",
      "B2 2000\n",
      "B3 50\n",
      " \n",
      "[[1.0, 0.986, 0.622, 0.23]]\n"
     ]
    }
   ],
   "source": [
    "i = 2\n",
    "power = experiment1(i, \"permutation\")\n",
    "np.save(\"results/exp1bis_\" + str(i) + \".npy\", power[0])"
   ]
  },
  {
   "cell_type": "code",
   "execution_count": 17,
   "metadata": {},
   "outputs": [
    {
     "name": "stdout",
     "output_type": "stream",
     "text": [
      "sample size 500\n",
      "kernel all\n",
      "number bandwidths 10\n",
      "B1 2000\n",
      "B2 2000\n",
      "B3 50\n",
      " \n",
      "[[1.0, 0.986, 0.618, 0.23]]\n"
     ]
    }
   ],
   "source": [
    "i = 3\n",
    "power = experiment1(i, \"permutation\")\n",
    "np.save(\"results/exp1bis_\" + str(i) + \".npy\", power[0])"
   ]
  },
  {
   "cell_type": "code",
   "execution_count": null,
   "metadata": {},
   "outputs": [],
   "source": []
  },
  {
   "cell_type": "code",
   "execution_count": 18,
   "metadata": {},
   "outputs": [
    {
     "name": "stdout",
     "output_type": "stream",
     "text": [
      "sample size 2000\n",
      "kernel laplace_gaussian\n",
      "number bandwidths 10\n",
      "B1 2000\n",
      "B2 2000\n",
      "B3 50\n",
      " \n",
      "[[1.0, 0.984, 0.262]]\n"
     ]
    }
   ],
   "source": [
    "i = 4\n",
    "power = experiment1(i, \"permutation\")\n",
    "np.save(\"results/exp1bis_\" + str(i) + \".npy\", power[0])"
   ]
  },
  {
   "cell_type": "code",
   "execution_count": 19,
   "metadata": {},
   "outputs": [
    {
     "name": "stdout",
     "output_type": "stream",
     "text": [
      "sample size 2000\n",
      "kernel laplace\n",
      "number bandwidths 10\n",
      "B1 2000\n",
      "B2 2000\n",
      "B3 50\n",
      " \n",
      "[[1.0, 0.942, 0.14]]\n"
     ]
    }
   ],
   "source": [
    "i = 5\n",
    "power = experiment1(i, \"permutation\")\n",
    "np.save(\"results/exp1bis_\" + str(i) + \".npy\", power[0])"
   ]
  },
  {
   "cell_type": "code",
   "execution_count": 20,
   "metadata": {},
   "outputs": [
    {
     "name": "stdout",
     "output_type": "stream",
     "text": [
      "sample size 2000\n",
      "kernel gaussian\n",
      "number bandwidths 10\n",
      "B1 2000\n",
      "B2 2000\n",
      "B3 50\n",
      " \n",
      "[[1.0, 0.984, 0.264]]\n"
     ]
    }
   ],
   "source": [
    "i = 6\n",
    "power = experiment1(i, \"permutation\")\n",
    "np.save(\"results/exp1bis_\" + str(i) + \".npy\", power[0])"
   ]
  },
  {
   "cell_type": "code",
   "execution_count": 21,
   "metadata": {},
   "outputs": [
    {
     "name": "stdout",
     "output_type": "stream",
     "text": [
      "sample size 2000\n",
      "kernel all\n",
      "number bandwidths 10\n",
      "B1 2000\n",
      "B2 2000\n",
      "B3 50\n",
      " \n",
      "[[1.0, 0.982, 0.25]]\n"
     ]
    }
   ],
   "source": [
    "i = 7\n",
    "power = experiment1(i, \"permutation\")\n",
    "np.save(\"results/exp1bis_\" + str(i) + \".npy\", power[0])"
   ]
  },
  {
   "cell_type": "markdown",
   "metadata": {
    "tags": []
   },
   "source": [
    "# Experiment 2"
   ]
  },
  {
   "cell_type": "markdown",
   "metadata": {},
   "source": [
    "Figure 3c"
   ]
  },
  {
   "cell_type": "code",
   "execution_count": 14,
   "metadata": {},
   "outputs": [],
   "source": [
    "from mnist import load_mnist\n",
    "P, Q_list = load_mnist()"
   ]
  },
  {
   "cell_type": "code",
   "execution_count": 15,
   "metadata": {},
   "outputs": [],
   "source": [
    "def experiment2(j, approx_type=\"wild bootstrap\"):\n",
    "    \n",
    "    number_bandwidths = 10\n",
    "    B1 = B2 = 2000\n",
    "    B3 = 50\n",
    "    kernel_types = [\"laplace_gaussian\", \"laplace\", \"gaussian\", \"all\"]\n",
    "    \n",
    "    dataset = \"mnist\"\n",
    "    bandwidth_multipliers = None\n",
    "    n = m = 500\n",
    "    N_epochs = 500\n",
    "    alpha = 0.05\n",
    "    delta = 1\n",
    "    R = [[(8,12), (10,14), (12,16)], [(10,14), (12,16), (14,18)]] \n",
    "    assert len(R[0]) == len(R[1])\n",
    "    r_num = 1\n",
    "    k_num = len(kernel_types)\n",
    "    function_types = [\"mmdagg_update\", ]\n",
    "    f_num = len(function_types)\n",
    "    q_num = len(Q_list)\n",
    "    if approx_type == \"wild bootstrap\":\n",
    "        app = \"a\"\n",
    "    elif approx_type == \"permutation\":\n",
    "        app = \"b\"\n",
    "        \n",
    "    kr = [(k,r) for k in range(k_num) for r in range(r_num)]\n",
    "    k,r = kr[j]\n",
    "\n",
    "    kernel_type = kernel_types[k]\n",
    "    r_min, r_max = 0, 1\n",
    "    \n",
    "    print(\"sample size\", m)\n",
    "    print(\"kernel\", kernel_type)\n",
    "    print(\"number bandwidths\", number_bandwidths)\n",
    "    print(\"B1\", B1)\n",
    "    print(\"B2\", B2)\n",
    "    print(\"B3\", B3)\n",
    "    print(\" \")\n",
    "\n",
    "    jobs = [[[] for q in range(q_num)] for w in range(f_num)] \n",
    "    \n",
    "    k = 1\n",
    "    for q in range(q_num):\n",
    "        for w in range(f_num):\n",
    "            function_type = function_types[w]\n",
    "            for i in range(N_epochs):\n",
    "                seed = generate_seed(k, 2, r, w, q, i)\n",
    "                jobs[w][q].append(sample_and_test_mnist(P, Q_list[q], function_type, seed, kernel_type, approx_type, m, n, \n",
    "                        alpha, r_min, r_max, B1, B2, B3, bandwidth_multipliers, number_bandwidths=number_bandwidths))\n",
    "    \n",
    "    results = [[jobs[w][q] for q in range(q_num)] for w in range(f_num)]\n",
    "    power   = [[sum(results[w][q]) / N_epochs for q in range(q_num)] for w in range(f_num)]\n",
    "    print(power)\n",
    "    \n",
    "    return power"
   ]
  },
  {
   "cell_type": "code",
   "execution_count": 11,
   "metadata": {},
   "outputs": [
    {
     "name": "stdout",
     "output_type": "stream",
     "text": [
      "sample size 500\n",
      "kernel laplace_gaussian\n",
      "number bandwidths 10\n",
      "B1 2000\n",
      "B2 2000\n",
      "B3 50\n",
      " \n",
      "[[1.0, 1.0, 0.996, 0.89, 0.248]]\n"
     ]
    }
   ],
   "source": [
    "i = 0\n",
    "power = experiment2(i)\n",
    "np.save(\"results/exp2_\" + str(i) + \".npy\", power[0])"
   ]
  },
  {
   "cell_type": "code",
   "execution_count": 9,
   "metadata": {},
   "outputs": [
    {
     "name": "stdout",
     "output_type": "stream",
     "text": [
      "sample size 500\n",
      "kernel laplace\n",
      "number bandwidths 10\n",
      "B1 2000\n",
      "B2 2000\n",
      "B3 50\n",
      " \n",
      "[[1.0, 1.0, 0.998, 0.898, 0.242]]\n"
     ]
    }
   ],
   "source": [
    "i = 1\n",
    "power = experiment2(i)\n",
    "np.save(\"results/exp2_\" + str(i) + \".npy\", power[0])"
   ]
  },
  {
   "cell_type": "code",
   "execution_count": 12,
   "metadata": {},
   "outputs": [
    {
     "name": "stdout",
     "output_type": "stream",
     "text": [
      "sample size 500\n",
      "kernel gaussian\n",
      "number bandwidths 10\n",
      "B1 2000\n",
      "B2 2000\n",
      "B3 50\n",
      " \n",
      "[[1.0, 1.0, 0.998, 0.902, 0.252]]\n"
     ]
    }
   ],
   "source": [
    "i = 2\n",
    "power = experiment2(i)\n",
    "np.save(\"results/exp2_\" + str(i) + \".npy\", power[0])"
   ]
  },
  {
   "cell_type": "code",
   "execution_count": 70,
   "metadata": {},
   "outputs": [
    {
     "name": "stdout",
     "output_type": "stream",
     "text": [
      "sample size 500\n",
      "kernel all\n",
      "number bandwidths 10\n",
      "B1 2000\n",
      "B2 2000\n",
      "B3 50\n",
      "\n",
      "[[1.0, 1.0, 0.998, 0.884, 0.246]]\n"
     ]
    }
   ],
   "source": [
    "i = 3\n",
    "power = experiment2(i)\n",
    "np.save(\"results/exp2_\" + str(i) + \".npy\", power[0])"
   ]
  },
  {
   "cell_type": "markdown",
   "metadata": {
    "tags": []
   },
   "source": [
    "# Experiment 2.bis"
   ]
  },
  {
   "cell_type": "markdown",
   "metadata": {},
   "source": [
    "Figure 5c"
   ]
  },
  {
   "cell_type": "code",
   "execution_count": 16,
   "metadata": {},
   "outputs": [
    {
     "name": "stdout",
     "output_type": "stream",
     "text": [
      "sample size 500\n",
      "kernel laplace_gaussian\n",
      "number bandwidths 10\n",
      "B1 2000\n",
      "B2 2000\n",
      "B3 50\n",
      " \n",
      "[[1.0, 1.0, 0.998, 0.884, 0.244]]\n"
     ]
    }
   ],
   "source": [
    "i = 0\n",
    "power = experiment2(i, \"permutation\")\n",
    "np.save(\"results/exp2bis_\" + str(i) + \".npy\", power[0])"
   ]
  },
  {
   "cell_type": "code",
   "execution_count": 17,
   "metadata": {},
   "outputs": [
    {
     "name": "stdout",
     "output_type": "stream",
     "text": [
      "sample size 500\n",
      "kernel laplace\n",
      "number bandwidths 10\n",
      "B1 2000\n",
      "B2 2000\n",
      "B3 50\n",
      " \n",
      "[[1.0, 1.0, 0.998, 0.902, 0.24]]\n"
     ]
    }
   ],
   "source": [
    "i = 1\n",
    "power = experiment2(i, \"permutation\")\n",
    "np.save(\"results/exp2bis_\" + str(i) + \".npy\", power[0])"
   ]
  },
  {
   "cell_type": "code",
   "execution_count": 18,
   "metadata": {},
   "outputs": [
    {
     "name": "stdout",
     "output_type": "stream",
     "text": [
      "sample size 500\n",
      "kernel gaussian\n",
      "number bandwidths 10\n",
      "B1 2000\n",
      "B2 2000\n",
      "B3 50\n",
      " \n",
      "[[1.0, 1.0, 0.998, 0.892, 0.246]]\n"
     ]
    }
   ],
   "source": [
    "i = 2\n",
    "power = experiment2(i, \"permutation\")\n",
    "np.save(\"results/exp2bis_\" + str(i) + \".npy\", power[0])"
   ]
  },
  {
   "cell_type": "code",
   "execution_count": 19,
   "metadata": {},
   "outputs": [
    {
     "name": "stdout",
     "output_type": "stream",
     "text": [
      "sample size 500\n",
      "kernel all\n",
      "number bandwidths 10\n",
      "B1 2000\n",
      "B2 2000\n",
      "B3 50\n",
      " \n",
      "[[1.0, 1.0, 0.998, 0.878, 0.236]]\n"
     ]
    }
   ],
   "source": [
    "i = 3\n",
    "power = experiment2(i, \"permutation\")\n",
    "np.save(\"results/exp2bis_\" + str(i) + \".npy\", power[0])"
   ]
  },
  {
   "cell_type": "markdown",
   "metadata": {
    "tags": []
   },
   "source": [
    "# Experiment 5"
   ]
  },
  {
   "cell_type": "code",
   "execution_count": 19,
   "metadata": {},
   "outputs": [],
   "source": [
    "def experiment5(j, approx_type=\"wild bootstrap\"):\n",
    "    \n",
    "    number_bandwidths = 10\n",
    "    B1 = B2 = 2000\n",
    "    B3 = 50\n",
    "    kernel_types = [\"laplace_gaussian\", \"laplace\", \"gaussian\", \"all\"]\n",
    "    \n",
    "    dataset = \"butucea\"\n",
    "    bandwidth_multipliers = np.linspace(0.1,1,10)\n",
    "    sample_sizes = [500, 2000]\n",
    "    N_epochs = 5000\n",
    "    alpha = 0.05\n",
    "    delta = 1\n",
    "    perturbation_multipliers = [2.7, 7.3]\n",
    "    perturbations = [4,3]\n",
    "    R = [(-4,-0)]\n",
    "    r_num = len(R)\n",
    "    k_num = len(kernel_types)\n",
    "    function_types = [\"mmdagg_update\",]\n",
    "    f_num = len(function_types)\n",
    "    if approx_type == \"wild bootstrap\":\n",
    "        app = \"a\"\n",
    "    elif approx_type == \"permutation\":\n",
    "        app = \"b\"\n",
    "        \n",
    "    ekr = [(e,k,r) for e in range(2) for k in range(k_num) for r in range(r_num)]\n",
    "    e,k,r = ekr[j]\n",
    "\n",
    "    d = e + 1\n",
    "    p_num = perturbations[e]\n",
    "    perturbation_multiplier = perturbation_multipliers[e]\n",
    "    kernel_type = kernel_types[k]\n",
    "    r_min, r_max = R[r]\n",
    "    n = m = sample_sizes[e]\n",
    "    \n",
    "    print(\"sample size\", sample_sizes[e])\n",
    "    print(\"kernel\", kernel_type)\n",
    "    print(\"number bandwidths\", number_bandwidths)\n",
    "    print(\"B1\", B1)\n",
    "    print(\"B2\", B2)\n",
    "    print(\"B3\", B3)\n",
    "    print(\" \")\n",
    "    \n",
    "    jobs = [[] for w in range(f_num)] \n",
    "    \n",
    "    k = 1\n",
    "    for w in range(f_num):\n",
    "        function_type = function_types[w]\n",
    "        for i in range(N_epochs):\n",
    "            seed = generate_seed(k, e, r, w, 5, i) \n",
    "            jobs[w].append(sample_and_test_uniform( \n",
    "                function_type,\n",
    "                seed,\n",
    "                kernel_type,\n",
    "                approx_type,\n",
    "                m, n, d, 0, delta, perturbation_multiplier,\n",
    "                alpha, r_min, r_max, B1, B2, B3,\n",
    "                bandwidth_multipliers,\n",
    "                number_bandwidths=number_bandwidths,\n",
    "            ))\n",
    "    \n",
    "    results = [jobs[w] for w in range(f_num)] \n",
    "    power   = [sum(results[w]) / N_epochs for w in range(f_num)]\n",
    "    print(power)\n",
    "\n",
    "    return power"
   ]
  },
  {
   "cell_type": "code",
   "execution_count": 37,
   "metadata": {},
   "outputs": [
    {
     "name": "stdout",
     "output_type": "stream",
     "text": [
      "sample size 500\n",
      "kernel laplace_gaussian\n",
      "number bandwidths 10\n",
      "B1 2000\n",
      "B2 2000\n",
      "B3 50\n",
      " \n",
      "[0.0496]\n"
     ]
    }
   ],
   "source": [
    "i = 0\n",
    "power = experiment5(i)\n",
    "np.save(\"results/exp5_\" + str(i) + \".npy\", power)"
   ]
  },
  {
   "cell_type": "code",
   "execution_count": 38,
   "metadata": {},
   "outputs": [
    {
     "name": "stdout",
     "output_type": "stream",
     "text": [
      "sample size 500\n",
      "kernel laplace_gaussian\n",
      "number bandwidths 10\n",
      "B1 2000\n",
      "B2 2000\n",
      "B3 50\n",
      " \n",
      "[0.0496]\n"
     ]
    }
   ],
   "source": [
    "i = 0\n",
    "power = experiment5(i, \"permutation\")\n",
    "np.save(\"results/exp5bis_\" + str(i) + \".npy\", power)"
   ]
  },
  {
   "cell_type": "code",
   "execution_count": 39,
   "metadata": {},
   "outputs": [
    {
     "name": "stdout",
     "output_type": "stream",
     "text": [
      "sample size 500\n",
      "kernel laplace\n",
      "number bandwidths 10\n",
      "B1 2000\n",
      "B2 2000\n",
      "B3 50\n",
      " \n",
      "[0.0506]\n"
     ]
    }
   ],
   "source": [
    "i = 1\n",
    "power = experiment5(i)\n",
    "np.save(\"results/exp5_\" + str(i) + \".npy\", power)"
   ]
  },
  {
   "cell_type": "code",
   "execution_count": 40,
   "metadata": {},
   "outputs": [
    {
     "name": "stdout",
     "output_type": "stream",
     "text": [
      "sample size 500\n",
      "kernel laplace\n",
      "number bandwidths 10\n",
      "B1 2000\n",
      "B2 2000\n",
      "B3 50\n",
      " \n",
      "[0.0528]\n"
     ]
    }
   ],
   "source": [
    "i = 1\n",
    "power = experiment5(i, \"permutation\")\n",
    "np.save(\"results/exp5bis_\" + str(i) + \".npy\", power)"
   ]
  },
  {
   "cell_type": "code",
   "execution_count": 41,
   "metadata": {},
   "outputs": [
    {
     "name": "stdout",
     "output_type": "stream",
     "text": [
      "sample size 500\n",
      "kernel gaussian\n",
      "number bandwidths 10\n",
      "B1 2000\n",
      "B2 2000\n",
      "B3 50\n",
      " \n",
      "[0.05]\n"
     ]
    }
   ],
   "source": [
    "i = 2\n",
    "power = experiment5(i)\n",
    "np.save(\"results/exp5_\" + str(i) + \".npy\", power)"
   ]
  },
  {
   "cell_type": "code",
   "execution_count": 42,
   "metadata": {},
   "outputs": [
    {
     "name": "stdout",
     "output_type": "stream",
     "text": [
      "sample size 500\n",
      "kernel gaussian\n",
      "number bandwidths 10\n",
      "B1 2000\n",
      "B2 2000\n",
      "B3 50\n",
      " \n",
      "[0.0492]\n"
     ]
    }
   ],
   "source": [
    "i = 2\n",
    "power = experiment5(i, \"permutation\")\n",
    "np.save(\"results/exp5bis_\" + str(i) + \".npy\", power)"
   ]
  },
  {
   "cell_type": "code",
   "execution_count": 43,
   "metadata": {},
   "outputs": [
    {
     "name": "stdout",
     "output_type": "stream",
     "text": [
      "sample size 500\n",
      "kernel all\n",
      "number bandwidths 10\n",
      "B1 2000\n",
      "B2 2000\n",
      "B3 50\n",
      " \n",
      "[0.0492]\n"
     ]
    }
   ],
   "source": [
    "i = 3\n",
    "power = experiment5(i)\n",
    "np.save(\"results/exp5_\" + str(i) + \".npy\", power)"
   ]
  },
  {
   "cell_type": "code",
   "execution_count": 44,
   "metadata": {},
   "outputs": [
    {
     "name": "stdout",
     "output_type": "stream",
     "text": [
      "sample size 500\n",
      "kernel all\n",
      "number bandwidths 10\n",
      "B1 2000\n",
      "B2 2000\n",
      "B3 50\n",
      " \n",
      "[0.0494]\n"
     ]
    }
   ],
   "source": [
    "i = 3\n",
    "power = experiment5(i, \"permutation\")\n",
    "np.save(\"results/exp5bis_\" + str(i) + \".npy\", power)"
   ]
  },
  {
   "cell_type": "code",
   "execution_count": null,
   "metadata": {},
   "outputs": [],
   "source": []
  },
  {
   "cell_type": "code",
   "execution_count": 45,
   "metadata": {},
   "outputs": [
    {
     "name": "stdout",
     "output_type": "stream",
     "text": [
      "sample size 2000\n",
      "kernel laplace_gaussian\n",
      "number bandwidths 10\n",
      "B1 2000\n",
      "B2 2000\n",
      "B3 50\n",
      " \n",
      "[0.0434]\n"
     ]
    }
   ],
   "source": [
    "i = 4\n",
    "power = experiment5(i)\n",
    "np.save(\"results/exp5_\" + str(i) + \".npy\", power)"
   ]
  },
  {
   "cell_type": "code",
   "execution_count": 46,
   "metadata": {},
   "outputs": [
    {
     "name": "stdout",
     "output_type": "stream",
     "text": [
      "sample size 2000\n",
      "kernel laplace_gaussian\n",
      "number bandwidths 10\n",
      "B1 2000\n",
      "B2 2000\n",
      "B3 50\n",
      " \n",
      "[0.0438]\n"
     ]
    }
   ],
   "source": [
    "i = 4\n",
    "power = experiment5(i, \"permutation\")\n",
    "np.save(\"results/exp5bis_\" + str(i) + \".npy\", power)"
   ]
  },
  {
   "cell_type": "code",
   "execution_count": 47,
   "metadata": {},
   "outputs": [
    {
     "name": "stdout",
     "output_type": "stream",
     "text": [
      "sample size 2000\n",
      "kernel laplace\n",
      "number bandwidths 10\n",
      "B1 2000\n",
      "B2 2000\n",
      "B3 50\n",
      " \n",
      "[0.0458]\n"
     ]
    }
   ],
   "source": [
    "i = 5\n",
    "power = experiment5(i)\n",
    "np.save(\"results/exp5_\" + str(i) + \".npy\", power)"
   ]
  },
  {
   "cell_type": "code",
   "execution_count": 48,
   "metadata": {},
   "outputs": [
    {
     "name": "stdout",
     "output_type": "stream",
     "text": [
      "sample size 2000\n",
      "kernel laplace\n",
      "number bandwidths 10\n",
      "B1 2000\n",
      "B2 2000\n",
      "B3 50\n",
      " \n",
      "[0.0456]\n"
     ]
    }
   ],
   "source": [
    "i = 5\n",
    "power = experiment5(i, \"permutation\")\n",
    "np.save(\"results/exp5bis_\" + str(i) + \".npy\", power)"
   ]
  },
  {
   "cell_type": "code",
   "execution_count": 49,
   "metadata": {},
   "outputs": [
    {
     "name": "stdout",
     "output_type": "stream",
     "text": [
      "sample size 2000\n",
      "kernel gaussian\n",
      "number bandwidths 10\n",
      "B1 2000\n",
      "B2 2000\n",
      "B3 50\n",
      " \n",
      "[0.0428]\n"
     ]
    }
   ],
   "source": [
    "i = 6\n",
    "power = experiment5(i)\n",
    "np.save(\"results/exp5_\" + str(i) + \".npy\", power)"
   ]
  },
  {
   "cell_type": "code",
   "execution_count": 50,
   "metadata": {},
   "outputs": [
    {
     "name": "stdout",
     "output_type": "stream",
     "text": [
      "sample size 2000\n",
      "kernel gaussian\n",
      "number bandwidths 10\n",
      "B1 2000\n",
      "B2 2000\n",
      "B3 50\n",
      " \n",
      "[0.0438]\n"
     ]
    }
   ],
   "source": [
    "i = 6\n",
    "power = experiment5(i, \"permutation\")\n",
    "np.save(\"results/exp5bis_\" + str(i) + \".npy\", power)"
   ]
  },
  {
   "cell_type": "code",
   "execution_count": 51,
   "metadata": {},
   "outputs": [
    {
     "name": "stdout",
     "output_type": "stream",
     "text": [
      "sample size 2000\n",
      "kernel all\n",
      "number bandwidths 10\n",
      "B1 2000\n",
      "B2 2000\n",
      "B3 50\n",
      " \n",
      "[0.043]\n"
     ]
    }
   ],
   "source": [
    "i = 7\n",
    "power = experiment5(i)\n",
    "np.save(\"results/exp5_\" + str(i) + \".npy\", power)"
   ]
  },
  {
   "cell_type": "code",
   "execution_count": 30,
   "metadata": {},
   "outputs": [
    {
     "name": "stdout",
     "output_type": "stream",
     "text": [
      "sample size 2000\n",
      "kernel all\n",
      "number bandwidths 10\n",
      "B1 2000\n",
      "B2 2000\n",
      "B3 50\n",
      "\n",
      "[0.0434]\n"
     ]
    }
   ],
   "source": [
    "i = 7\n",
    "power = experiment5(i, \"permutation\")\n",
    "np.save(\"results/exp5bis_\" + str(i) + \".npy\", power)"
   ]
  },
  {
   "cell_type": "markdown",
   "metadata": {
    "tags": []
   },
   "source": [
    "# Experiment 6"
   ]
  },
  {
   "cell_type": "code",
   "execution_count": 36,
   "metadata": {},
   "outputs": [],
   "source": [
    "def experiment6(j, approx_type=\"wild bootstrap\"):\n",
    "    \n",
    "    number_bandwidths = 10\n",
    "    B1 = B2 = 2000\n",
    "    B3 = 50\n",
    "    kernel_types = [\"laplace_gaussian\", \"laplace\", \"gaussian\", \"all\"]\n",
    "    \n",
    "    dataset = \"mnist\"\n",
    "    bandwidth_multipliers = [2**i for i in range(10,21)]\n",
    "    n = m = 500\n",
    "    N_epochs = 5000\n",
    "    alpha = 0.05\n",
    "    delta = 1\n",
    "    R = [[(10,14)], [(12,16)]] \n",
    "    assert len(R[0]) == len(R[1])\n",
    "    r_num = len(R[0])\n",
    "    k_num = len(kernel_types)\n",
    "    function_types = [\"mmdagg_update\", ]\n",
    "    f_num = len(function_types)\n",
    "    q_num = len(Q_list)\n",
    "    if approx_type == \"wild bootstrap\":\n",
    "        app = \"a\"\n",
    "    elif approx_type == \"permutation\":\n",
    "        app = \"b\"\n",
    "        \n",
    "    kr = [(k,r) for k in range(k_num) for r in range(r_num)]\n",
    "    k,r = kr[j]\n",
    "\n",
    "    kernel_type = kernel_types[k]\n",
    "    r_min, r_max = 1, 1\n",
    "    \n",
    "    print(\"sample size\", m)\n",
    "    print(\"kernel\", kernel_type)\n",
    "    print(\"number bandwidths\", number_bandwidths)\n",
    "    print(\"B1\", B1)\n",
    "    print(\"B2\", B2)\n",
    "    print(\"B3\", B3)\n",
    "    print(\" \")\n",
    "\n",
    "    jobs = [[]  for w in range(f_num)] \n",
    "    \n",
    "    k = 1\n",
    "    for w in range(f_num):\n",
    "        function_type = function_types[w]\n",
    "        for i in range(N_epochs):\n",
    "            seed = generate_seed(k, 2, r, w, 5, i)\n",
    "            jobs[w].append(sample_and_test_mnist(P, P, function_type, seed, kernel_type, approx_type, m, n, \n",
    "                    alpha, r_min, r_max, B1, B2, B3, bandwidth_multipliers, number_bandwidths=number_bandwidths))\n",
    "    \n",
    "    results = [jobs[w] for w in range(f_num)] \n",
    "    power   = [sum(results[w]) / N_epochs for w in range(f_num)]\n",
    "    print(power)\n",
    "    \n",
    "    return power"
   ]
  },
  {
   "cell_type": "code",
   "execution_count": 31,
   "metadata": {},
   "outputs": [
    {
     "name": "stdout",
     "output_type": "stream",
     "text": [
      "sample size 500\n",
      "kernel laplace_gaussian\n",
      "number bandwidths 10\n",
      "B1 2000\n",
      "B2 2000\n",
      "B3 50\n",
      "\n",
      "[0.0632]\n"
     ]
    }
   ],
   "source": [
    "i = 0\n",
    "power = experiment6(i)\n",
    "np.save(\"results/exp6_\" + str(i) + \".npy\", power)"
   ]
  },
  {
   "cell_type": "code",
   "execution_count": 32,
   "metadata": {},
   "outputs": [
    {
     "name": "stdout",
     "output_type": "stream",
     "text": [
      "sample size 500\n",
      "kernel laplace_gaussian\n",
      "number bandwidths 10\n",
      "B1 2000\n",
      "B2 2000\n",
      "B3 50\n",
      "\n",
      "[0.0628]\n"
     ]
    }
   ],
   "source": [
    "i = 0\n",
    "power = experiment6(i, \"permutation\")\n",
    "np.save(\"results/exp6bis_\" + str(i) + \".npy\", power)"
   ]
  },
  {
   "cell_type": "code",
   "execution_count": 33,
   "metadata": {},
   "outputs": [
    {
     "name": "stdout",
     "output_type": "stream",
     "text": [
      "sample size 500\n",
      "kernel laplace\n",
      "number bandwidths 10\n",
      "B1 2000\n",
      "B2 2000\n",
      "B3 50\n",
      "\n",
      "[0.0624]\n"
     ]
    }
   ],
   "source": [
    "i = 1\n",
    "power = experiment6(i)\n",
    "np.save(\"results/exp6_\" + str(i) + \".npy\", power)"
   ]
  },
  {
   "cell_type": "code",
   "execution_count": 34,
   "metadata": {},
   "outputs": [
    {
     "name": "stdout",
     "output_type": "stream",
     "text": [
      "sample size 500\n",
      "kernel laplace\n",
      "number bandwidths 10\n",
      "B1 2000\n",
      "B2 2000\n",
      "B3 50\n",
      "\n",
      "[0.0612]\n"
     ]
    }
   ],
   "source": [
    "i = 1\n",
    "power = experiment6(i, \"permutation\")\n",
    "np.save(\"results/exp6bis_\" + str(i) + \".npy\", power)"
   ]
  },
  {
   "cell_type": "code",
   "execution_count": 37,
   "metadata": {},
   "outputs": [
    {
     "name": "stdout",
     "output_type": "stream",
     "text": [
      "sample size 500\n",
      "kernel gaussian\n",
      "number bandwidths 10\n",
      "B1 2000\n",
      "B2 2000\n",
      "B3 50\n",
      " \n",
      "[0.0624]\n"
     ]
    }
   ],
   "source": [
    "i = 2\n",
    "power = experiment6(i)\n",
    "np.save(\"results/exp6_\" + str(i) + \".npy\", power)"
   ]
  },
  {
   "cell_type": "code",
   "execution_count": 38,
   "metadata": {},
   "outputs": [
    {
     "name": "stdout",
     "output_type": "stream",
     "text": [
      "sample size 500\n",
      "kernel gaussian\n",
      "number bandwidths 10\n",
      "B1 2000\n",
      "B2 2000\n",
      "B3 50\n",
      " \n",
      "[0.062]\n"
     ]
    }
   ],
   "source": [
    "i = 2\n",
    "power = experiment6(i, \"permutation\")\n",
    "np.save(\"results/exp6bis_\" + str(i) + \".npy\", power)"
   ]
  },
  {
   "cell_type": "code",
   "execution_count": 39,
   "metadata": {},
   "outputs": [
    {
     "name": "stdout",
     "output_type": "stream",
     "text": [
      "sample size 500\n",
      "kernel all\n",
      "number bandwidths 10\n",
      "B1 2000\n",
      "B2 2000\n",
      "B3 50\n",
      " \n",
      "[0.0594]\n"
     ]
    }
   ],
   "source": [
    "i = 3\n",
    "power = experiment6(i)\n",
    "np.save(\"results/exp6_\" + str(i) + \".npy\", power)"
   ]
  },
  {
   "cell_type": "code",
   "execution_count": 41,
   "metadata": {},
   "outputs": [
    {
     "name": "stdout",
     "output_type": "stream",
     "text": [
      "sample size 500\n",
      "kernel all\n",
      "number bandwidths 10\n",
      "B1 2000\n",
      "B2 2000\n",
      "B3 50\n",
      " \n",
      "[0.0622]\n"
     ]
    }
   ],
   "source": [
    "i = 3\n",
    "power = experiment6(i, \"permutation\")\n",
    "np.save(\"results/exp6bis_\" + str(i) + \".npy\", power)"
   ]
  },
  {
   "cell_type": "markdown",
   "metadata": {
    "tags": []
   },
   "source": [
    "# Experiment 7"
   ]
  },
  {
   "cell_type": "code",
   "execution_count": 47,
   "metadata": {},
   "outputs": [],
   "source": [
    "def experiment7(j, approx_type=\"permutation\"):\n",
    "    \n",
    "    number_bandwidths = 10\n",
    "    B1 = B2 = 2000\n",
    "    B3 = 50\n",
    "    kernel_types = [\"laplace_gaussian\", \"laplace\", \"gaussian\", \"all\"]\n",
    "    \n",
    "    dataset = \"butucea\"\n",
    "    bandwidth_multipliers = np.linspace(0.1,1,10)\n",
    "    sample_sizes_m = [100, 250]\n",
    "    sample_sizes_n = [1000, 2000, 3000, 4000, 5000]\n",
    "    s_num = len(sample_sizes_n)\n",
    "    p_values = [2, 1] # d=1, 3 pert, d=2 2 pert\n",
    "    N_epochs = 500\n",
    "    alpha = 0.05\n",
    "    delta = 1\n",
    "    perturbation_multipliers = [2.7, 7.3]\n",
    "    perturbations = [4,3]\n",
    "    R = [(-4,-0)] \n",
    "    r_num = len(R)\n",
    "    k_num = len(kernel_types)\n",
    "    function_types = [\"mmdagg_update\",] \n",
    "    f_num = len(function_types)\n",
    "    if approx_type == \"wild bootstrap\":\n",
    "        app = \"a\"\n",
    "    elif approx_type == \"permutation\":\n",
    "        app = \"b\"\n",
    "        \n",
    "    ek = [(e,k) for e in range(2) for k in range(k_num)]\n",
    "    e,k = ek[j]\n",
    "\n",
    "    d = e + 1\n",
    "    perturbation_multiplier = perturbation_multipliers[e]\n",
    "    kernel_type = kernel_types[k]\n",
    "    r_min, r_max = 1, 1 \n",
    "    p = p_values[e]\n",
    "    h = 1/(p+1)\n",
    "    m = sample_sizes_m[e]\n",
    "    \n",
    "    print(\"sample size\", m)\n",
    "    print(\"sample sizes\", sample_sizes_n)\n",
    "    print(\"kernel\", kernel_type)\n",
    "    print(\"number bandwidths\", number_bandwidths)\n",
    "    print(\"B1\", B1)\n",
    "    print(\"B2\", B2)\n",
    "    print(\"B3\", B3)\n",
    "    print(\"perturbation\", p + 1)\n",
    "    print(\"d\", d)\n",
    "    print(\" \")\n",
    "\n",
    "    jobs = [[[] for s in range(s_num)] for w in range(f_num)]\n",
    "    \n",
    "    k = 1\n",
    "    for w in range(f_num):\n",
    "        function_type = function_types[w]\n",
    "        for s in range(s_num):\n",
    "            n = sample_sizes_n[s]\n",
    "            for i in range(N_epochs):\n",
    "                seed = generate_seed(k, e, 3, w, s, i) \n",
    "                jobs[w][s].append(sample_and_test_uniform( \n",
    "                    function_type, \n",
    "                    seed, \n",
    "                    kernel_type, \n",
    "                    approx_type, \n",
    "                    m, n, d, p + 1, delta, perturbation_multiplier, \n",
    "                    alpha, r_min, r_max, B1, B2, B3, \n",
    "                    bandwidth_multipliers,\n",
    "                    number_bandwidths=number_bandwidths,\n",
    "                ))\n",
    "    \n",
    "    results = [[jobs[w][s] for s in range(s_num)] for w in range(f_num)] \n",
    "    power   = [[sum(results[w][s]) / N_epochs for s in range(s_num)] for w in range(f_num)]\n",
    "    print(power)\n",
    "\n",
    "    return power"
   ]
  },
  {
   "cell_type": "code",
   "execution_count": 23,
   "metadata": {},
   "outputs": [
    {
     "name": "stdout",
     "output_type": "stream",
     "text": [
      "sample size 100\n",
      "sample sizes [1000, 2000, 3000, 4000, 5000]\n",
      "kernel laplace_gaussian\n",
      "number bandwidths 10\n",
      "B1 2000\n",
      "B2 2000\n",
      "B3 50\n",
      "perturbation 3\n",
      "d 1\n",
      " \n",
      "[[0.212, 0.18, 0.19, 0.222, 0.228]]\n"
     ]
    }
   ],
   "source": [
    "i = 0\n",
    "power = experiment7(i)\n",
    "np.save(\"results/exp7_\" + str(i) + \".npy\", power[0])"
   ]
  },
  {
   "cell_type": "code",
   "execution_count": 24,
   "metadata": {},
   "outputs": [
    {
     "name": "stdout",
     "output_type": "stream",
     "text": [
      "sample size 100\n",
      "sample sizes [1000, 2000, 3000, 4000, 5000]\n",
      "kernel laplace\n",
      "number bandwidths 10\n",
      "B1 2000\n",
      "B2 2000\n",
      "B3 50\n",
      "perturbation 3\n",
      "d 1\n",
      " \n",
      "[[0.202, 0.178, 0.178, 0.218, 0.212]]\n"
     ]
    }
   ],
   "source": [
    "i = 1\n",
    "power = experiment7(i)\n",
    "np.save(\"results/exp7_\" + str(i) + \".npy\", power[0])"
   ]
  },
  {
   "cell_type": "code",
   "execution_count": 25,
   "metadata": {},
   "outputs": [
    {
     "name": "stdout",
     "output_type": "stream",
     "text": [
      "sample size 100\n",
      "sample sizes [1000, 2000, 3000, 4000, 5000]\n",
      "kernel gaussian\n",
      "number bandwidths 10\n",
      "B1 2000\n",
      "B2 2000\n",
      "B3 50\n",
      "perturbation 3\n",
      "d 1\n",
      " \n",
      "[[0.212, 0.178, 0.19, 0.226, 0.23]]\n"
     ]
    }
   ],
   "source": [
    "i = 2\n",
    "power = experiment7(i)\n",
    "np.save(\"results/exp7_\" + str(i) + \".npy\", power[0])"
   ]
  },
  {
   "cell_type": "code",
   "execution_count": 26,
   "metadata": {},
   "outputs": [
    {
     "name": "stdout",
     "output_type": "stream",
     "text": [
      "sample size 100\n",
      "sample sizes [1000, 2000, 3000, 4000, 5000]\n",
      "kernel all\n",
      "number bandwidths 10\n",
      "B1 2000\n",
      "B2 2000\n",
      "B3 50\n",
      "perturbation 3\n",
      "d 1\n",
      " \n",
      "[[0.21, 0.178, 0.192, 0.222, 0.224]]\n"
     ]
    }
   ],
   "source": [
    "i = 3\n",
    "power = experiment7(i)\n",
    "np.save(\"results/exp7_\" + str(i) + \".npy\", power[0])"
   ]
  },
  {
   "cell_type": "code",
   "execution_count": null,
   "metadata": {},
   "outputs": [],
   "source": []
  },
  {
   "cell_type": "code",
   "execution_count": 27,
   "metadata": {},
   "outputs": [
    {
     "name": "stdout",
     "output_type": "stream",
     "text": [
      "sample size 250\n",
      "sample sizes [1000, 2000, 3000, 4000, 5000]\n",
      "kernel laplace_gaussian\n",
      "number bandwidths 10\n",
      "B1 2000\n",
      "B2 2000\n",
      "B3 50\n",
      "perturbation 2\n",
      "d 2\n",
      " \n",
      "[[0.176, 0.228, 0.198, 0.234, 0.244]]\n"
     ]
    }
   ],
   "source": [
    "i = 4\n",
    "power = experiment7(i)\n",
    "np.save(\"results/exp7_\" + str(i) + \".npy\", power[0])"
   ]
  },
  {
   "cell_type": "code",
   "execution_count": 28,
   "metadata": {},
   "outputs": [
    {
     "name": "stdout",
     "output_type": "stream",
     "text": [
      "sample size 250\n",
      "sample sizes [1000, 2000, 3000, 4000, 5000]\n",
      "kernel laplace\n",
      "number bandwidths 10\n",
      "B1 2000\n",
      "B2 2000\n",
      "B3 50\n",
      "perturbation 2\n",
      "d 2\n",
      " \n",
      "[[0.144, 0.174, 0.166, 0.166, 0.182]]\n"
     ]
    }
   ],
   "source": [
    "i = 5\n",
    "power = experiment7(i)\n",
    "np.save(\"results/exp7_\" + str(i) + \".npy\", power[0])"
   ]
  },
  {
   "cell_type": "code",
   "execution_count": 29,
   "metadata": {},
   "outputs": [
    {
     "name": "stdout",
     "output_type": "stream",
     "text": [
      "sample size 250\n",
      "sample sizes [1000, 2000, 3000, 4000, 5000]\n",
      "kernel gaussian\n",
      "number bandwidths 10\n",
      "B1 2000\n",
      "B2 2000\n",
      "B3 50\n",
      "perturbation 2\n",
      "d 2\n",
      " \n",
      "[[0.18, 0.232, 0.206, 0.236, 0.25]]\n"
     ]
    }
   ],
   "source": [
    "i = 6\n",
    "power = experiment7(i)\n",
    "np.save(\"results/exp7_\" + str(i) + \".npy\", power[0])"
   ]
  },
  {
   "cell_type": "code",
   "execution_count": 30,
   "metadata": {},
   "outputs": [
    {
     "name": "stdout",
     "output_type": "stream",
     "text": [
      "sample size 250\n",
      "sample sizes [1000, 2000, 3000, 4000, 5000]\n",
      "kernel all\n",
      "number bandwidths 10\n",
      "B1 2000\n",
      "B2 2000\n",
      "B3 50\n",
      "perturbation 2\n",
      "d 2\n",
      " \n",
      "[[0.166, 0.224, 0.198, 0.226, 0.238]]\n"
     ]
    }
   ],
   "source": [
    "i = 7\n",
    "power = experiment7(i)\n",
    "np.save(\"results/exp7_\" + str(i) + \".npy\", power[0])"
   ]
  },
  {
   "cell_type": "markdown",
   "metadata": {
    "tags": []
   },
   "source": [
    "# Experiment 8"
   ]
  },
  {
   "cell_type": "code",
   "execution_count": 42,
   "metadata": {},
   "outputs": [],
   "source": [
    "def experiment8(j, approx_type=\"permutation\"):\n",
    "    \n",
    "    number_bandwidths = 10\n",
    "    B1 = B2 = 2000\n",
    "    B3 = 50\n",
    "    kernel_types = [\"laplace_gaussian\", \"laplace\", \"gaussian\", \"all\"]\n",
    "    \n",
    "    dataset = \"mnist\"\n",
    "    bandwidth_multipliers = np.linspace(0.1,1,10)\n",
    "    m = 100\n",
    "    sample_sizes_n = [200, 400, 600, 800, 1000]\n",
    "    s_num = len(sample_sizes_n)\n",
    "    N_epochs = 500\n",
    "    alpha = 0.05\n",
    "    delta = 1\n",
    "    R = [(10,14), (12,16)] \n",
    "    r_num = len(R)\n",
    "    k_num = len(kernel_types)\n",
    "    function_types = [\"mmdagg_update\"]\n",
    "    f_num = len(function_types)\n",
    "    if approx_type == \"wild bootstrap\":\n",
    "        app = \"a\"\n",
    "    elif approx_type == \"permutation\":\n",
    "        app = \"b\"\n",
    "        \n",
    "    ek = [k for k in range(k_num)]\n",
    "    k = ek[j]\n",
    "\n",
    "    kernel_type = kernel_types[k]\n",
    "    r_min, r_max = 1, 1\n",
    "    \n",
    "    print(\"sample size\", m)\n",
    "    print(\"sample sizes\", sample_sizes_n)\n",
    "    print(\"kernel\", kernel_type)\n",
    "    print(\"number bandwidths\", number_bandwidths)\n",
    "    print(\"B1\", B1)\n",
    "    print(\"B2\", B2)\n",
    "    print(\"B3\", B3)\n",
    "    print(\" \")\n",
    "\n",
    "    jobs = [[[] for s in range(s_num)] for w in range(f_num)]\n",
    "                    \n",
    "    k = 1\n",
    "    for w in range(f_num):\n",
    "        function_type = function_types[w]\n",
    "        for s in range(s_num):\n",
    "            n = sample_sizes_n[s]\n",
    "            for i in range(N_epochs):\n",
    "                seed = generate_seed(k, 2, 3, w, s, i) \n",
    "                jobs[w][s].append(sample_and_test_mnist(P, Q, function_type, seed, kernel_type, approx_type, m, n, \n",
    "                        alpha, r_min, r_max, B1, B2, B3, bandwidth_multipliers, number_bandwidths=number_bandwidths))\n",
    "                \n",
    "    results = [[jobs[w][s] for s in range(s_num)] for w in range(f_num)] \n",
    "    power   = [[sum(results[w][s]) / N_epochs for s in range(s_num)] for w in range(f_num)]\n",
    "    print(power)\n",
    "    \n",
    "    return power"
   ]
  },
  {
   "cell_type": "code",
   "execution_count": 43,
   "metadata": {},
   "outputs": [
    {
     "name": "stdout",
     "output_type": "stream",
     "text": [
      "sample size 100\n",
      "sample sizes [200, 400, 600, 800, 1000]\n",
      "kernel laplace_gaussian\n",
      "number bandwidths 10\n",
      "B1 2000\n",
      "B2 2000\n",
      "B3 50\n",
      " \n",
      "[[0.3, 0.476, 0.494, 0.506, 0.552]]\n"
     ]
    }
   ],
   "source": [
    "i = 0\n",
    "power = experiment8(i)\n",
    "np.save(\"results/exp8_\" + str(i) + \".npy\", power[0])"
   ]
  },
  {
   "cell_type": "code",
   "execution_count": 44,
   "metadata": {},
   "outputs": [
    {
     "name": "stdout",
     "output_type": "stream",
     "text": [
      "sample size 100\n",
      "sample sizes [200, 400, 600, 800, 1000]\n",
      "kernel laplace\n",
      "number bandwidths 10\n",
      "B1 2000\n",
      "B2 2000\n",
      "B3 50\n",
      " \n",
      "[[0.312, 0.452, 0.498, 0.486, 0.53]]\n"
     ]
    }
   ],
   "source": [
    "i = 1\n",
    "power = experiment8(i)\n",
    "np.save(\"results/exp8_\" + str(i) + \".npy\", power[0])"
   ]
  },
  {
   "cell_type": "code",
   "execution_count": 45,
   "metadata": {},
   "outputs": [
    {
     "name": "stdout",
     "output_type": "stream",
     "text": [
      "sample size 100\n",
      "sample sizes [200, 400, 600, 800, 1000]\n",
      "kernel gaussian\n",
      "number bandwidths 10\n",
      "B1 2000\n",
      "B2 2000\n",
      "B3 50\n",
      " \n",
      "[[0.32, 0.488, 0.518, 0.524, 0.564]]\n"
     ]
    }
   ],
   "source": [
    "i = 2\n",
    "power = experiment8(i)\n",
    "np.save(\"results/exp8_\" + str(i) + \".npy\", power)"
   ]
  },
  {
   "cell_type": "code",
   "execution_count": 46,
   "metadata": {},
   "outputs": [
    {
     "name": "stdout",
     "output_type": "stream",
     "text": [
      "sample size 100\n",
      "sample sizes [200, 400, 600, 800, 1000]\n",
      "kernel all\n",
      "number bandwidths 10\n",
      "B1 2000\n",
      "B2 2000\n",
      "B3 50\n",
      " \n",
      "[[0.294, 0.45, 0.48, 0.492, 0.536]]\n"
     ]
    }
   ],
   "source": [
    "i = 3\n",
    "power = experiment8(i)\n",
    "np.save(\"results/exp8_\" + str(i) + \".npy\", power)"
   ]
  },
  {
   "cell_type": "markdown",
   "metadata": {
    "tags": []
   },
   "source": [
    "# Experiment 9"
   ]
  },
  {
   "cell_type": "code",
   "execution_count": null,
   "metadata": {},
   "outputs": [],
   "source": [
    "def experiment9(j, approx_type=\"wild bootstrap\"):\n",
    "    \n",
    "    B1 = B2 = 500\n",
    "    B3 = 100\n",
    "    kernel_types = [\"laplace_gaussian\", \"laplace\", \"gaussian\", \"all\"]\n",
    "    \n",
    "    dataset = \"butucea\"\n",
    "    bandwidth_multipliers = None\n",
    "    sample_sizes = [500, 2000]\n",
    "    N_epochs = 500\n",
    "    alpha = 0.05\n",
    "    delta = 1\n",
    "    p_values = [2, 2] # d=1 3 pert, d=2 3 pert\n",
    "    perturbation_multipliers = [2.7, 7.3]\n",
    "    R = [10, 100, 1000]\n",
    "    r_num = len(R)\n",
    "    k_num = len(kernel_types)\n",
    "    function_types = [\"mmdagg_update\"]\n",
    "    f_num = len(function_types)\n",
    "    if approx_type == \"wild bootstrap\":\n",
    "        app = \"a\"\n",
    "    elif approx_type == \"permutation\":\n",
    "        app = \"b\"\n",
    "        \n",
    "    ek = [(e,k) for e in range(2) for k in range(k_num)]\n",
    "    e,k = ek[j]\n",
    "    \n",
    "    d = e + 1\n",
    "    perturbation_multiplier = perturbation_multipliers[e]\n",
    "    kernel_type = kernel_types[k]\n",
    "    n = m = sample_sizes[e]\n",
    "    p = p_values[e]\n",
    "    h = 1 / (p+1)\n",
    "    r_min, r_max = 1, 1\n",
    "    \n",
    "    print(\"sample size\", m)\n",
    "    print(\"kernel\", kernel_type)\n",
    "    print(\"number bandwidths\", R)\n",
    "    print(\"B1\", B1)\n",
    "    print(\"B2\", B2)\n",
    "    print(\"B3\", B3)\n",
    "    print(\" \")\n",
    "    \n",
    "    jobs = [[[] for r in range(r_num)] for w in range(f_num)] \n",
    "    \n",
    "    k = 1\n",
    "    for w in range(f_num):\n",
    "        function_type = function_types[w]\n",
    "        for r in range(r_num):\n",
    "            number_bandwidths = R[r]\n",
    "            for i in range(N_epochs):\n",
    "                seed = generate_seed(k, e, 1, w, p, i)\n",
    "                jobs[w][r].append(sample_and_test_uniform(\n",
    "                    function_type, \n",
    "                    seed, \n",
    "                    kernel_type, \n",
    "                    approx_type, \n",
    "                    m, n, d, p + 1, delta, perturbation_multiplier, \n",
    "                    alpha, r_min, r_max, B1, B2, B3, \n",
    "                    bandwidth_multipliers,\n",
    "                    number_bandwidths=number_bandwidths,\n",
    "                ))\n",
    "\n",
    "    results = [[jobs[w][r] for r in range(r_num)] for w in range(f_num)] \n",
    "    power   = [[sum(results[w][r]) / N_epochs for r in range(r_num)] for w in range(f_num)] \n",
    "    print(power)\n",
    "    \n",
    "    return power\n"
   ]
  },
  {
   "cell_type": "code",
   "execution_count": 33,
   "metadata": {
    "tags": []
   },
   "outputs": [
    {
     "name": "stdout",
     "output_type": "stream",
     "text": [
      "sample size 500\n",
      "kernel laplace_gaussian\n",
      "number bandwidths [10, 100, 1000]\n",
      "B1 500\n",
      "B2 500\n",
      "B3 100\n",
      " \n",
      "[[0.56, 0.562, 0.56]]\n"
     ]
    }
   ],
   "source": [
    "i = 0\n",
    "power = experiment9(i)\n",
    "np.save(\"results/exp9_\" + str(i) + \".npy\", power[0])"
   ]
  },
  {
   "cell_type": "code",
   "execution_count": 34,
   "metadata": {
    "tags": []
   },
   "outputs": [
    {
     "name": "stdout",
     "output_type": "stream",
     "text": [
      "sample size 500\n",
      "kernel laplace\n",
      "number bandwidths [10, 100, 1000]\n",
      "B1 500\n",
      "B2 500\n",
      "B3 100\n",
      " \n",
      "[[0.552, 0.548, 0.548]]\n"
     ]
    }
   ],
   "source": [
    "i = 1\n",
    "power = experiment9(i)\n",
    "np.save(\"results/exp9_\" + str(i) + \".npy\", power[0])"
   ]
  },
  {
   "cell_type": "code",
   "execution_count": 35,
   "metadata": {
    "tags": []
   },
   "outputs": [
    {
     "name": "stdout",
     "output_type": "stream",
     "text": [
      "sample size 500\n",
      "kernel gaussian\n",
      "number bandwidths [10, 100, 1000]\n",
      "B1 500\n",
      "B2 500\n",
      "B3 100\n",
      " \n",
      "[[0.558, 0.562, 0.56]]\n"
     ]
    }
   ],
   "source": [
    "i = 2\n",
    "power = experiment9(i)\n",
    "np.save(\"results/exp9_\" + str(i) + \".npy\", power[0])"
   ]
  },
  {
   "cell_type": "code",
   "execution_count": 36,
   "metadata": {
    "tags": []
   },
   "outputs": [
    {
     "name": "stdout",
     "output_type": "stream",
     "text": [
      "sample size 500\n",
      "kernel all\n",
      "number bandwidths [10, 100, 1000]\n",
      "B1 500\n",
      "B2 500\n",
      "B3 100\n",
      " \n",
      "[[0.56, 0.558, 0.558]]\n"
     ]
    }
   ],
   "source": [
    "i = 3\n",
    "power = experiment9(i)\n",
    "np.save(\"results/exp9_\" + str(i) + \".npy\", power[0])"
   ]
  },
  {
   "cell_type": "code",
   "execution_count": 37,
   "metadata": {
    "tags": []
   },
   "outputs": [
    {
     "name": "stdout",
     "output_type": "stream",
     "text": [
      "sample size 2000\n",
      "kernel laplace_gaussian\n",
      "number bandwidths [10, 100, 1000]\n",
      "B1 500\n",
      "B2 500\n",
      "B3 100\n",
      " \n",
      "[[0.262, 0.26, 0.262]]\n"
     ]
    }
   ],
   "source": [
    "i = 4\n",
    "power = experiment9(i)\n",
    "np.save(\"results/exp9_\" + str(i) + \".npy\", power[0])"
   ]
  },
  {
   "cell_type": "code",
   "execution_count": 38,
   "metadata": {
    "tags": []
   },
   "outputs": [
    {
     "name": "stdout",
     "output_type": "stream",
     "text": [
      "sample size 2000\n",
      "kernel laplace\n",
      "number bandwidths [10, 100, 1000]\n",
      "B1 500\n",
      "B2 500\n",
      "B3 100\n",
      " \n",
      "[[0.116, 0.114, 0.114]]\n"
     ]
    }
   ],
   "source": [
    "i = 5\n",
    "power = experiment9(i)\n",
    "np.save(\"results/exp9_\" + str(i) + \".npy\", power[0])"
   ]
  },
  {
   "cell_type": "code",
   "execution_count": 41,
   "metadata": {
    "tags": []
   },
   "outputs": [
    {
     "name": "stdout",
     "output_type": "stream",
     "text": [
      "sample size 2000\n",
      "kernel gaussian\n",
      "number bandwidths [10, 100, 1000]\n",
      "B1 500\n",
      "B2 500\n",
      "B3 100\n",
      " \n",
      "[[0.268, 0.264, 0.264]]\n"
     ]
    }
   ],
   "source": [
    "i = 6\n",
    "power = experiment9(i)\n",
    "np.save(\"results/exp9_\" + str(i) + \".npy\", power[0])"
   ]
  },
  {
   "cell_type": "code",
   "execution_count": 42,
   "metadata": {
    "tags": []
   },
   "outputs": [
    {
     "name": "stdout",
     "output_type": "stream",
     "text": [
      "sample size 2000\n",
      "kernel all\n",
      "number bandwidths [10, 100, 1000]\n",
      "B1 500\n",
      "B2 500\n",
      "B3 100\n",
      " \n",
      "[[0.252, 0.242, 0.244]]\n"
     ]
    }
   ],
   "source": [
    "i = 7\n",
    "power = experiment9(i)\n",
    "np.save(\"results/exp9_\" + str(i) + \".npy\", power[0])"
   ]
  },
  {
   "cell_type": "markdown",
   "metadata": {
    "tags": []
   },
   "source": [
    "# Experiment 10"
   ]
  },
  {
   "cell_type": "code",
   "execution_count": 19,
   "metadata": {},
   "outputs": [],
   "source": [
    "def experiment10(j, approx_type=\"wild bootstrap\"):\n",
    "    \n",
    "    B1 = B2 = 500\n",
    "    B3 = 100\n",
    "    kernel_types = [\"laplace_gaussian\", \"laplace\", \"gaussian\", \"all\"]\n",
    "    \n",
    "    dataset = \"mnist\"\n",
    "    bandwidth_multipliers = None\n",
    "    n = m = 500\n",
    "    N_epochs = 500\n",
    "    alpha = 0.05\n",
    "    R = [3, 4, 5, 6, 7, 8, 9, 10, 100, 1000]\n",
    "    r_num = len(R)\n",
    "    k_num = len(kernel_types)\n",
    "    function_types = [\"mmdagg_update\"]\n",
    "    f_num = len(function_types)\n",
    "    if approx_type == \"wild bootstrap\":\n",
    "        app = \"a\"\n",
    "    elif approx_type == \"permutation\":\n",
    "        app = \"b\"\n",
    "        \n",
    "    kw = [(k) for k in range(k_num) ]\n",
    "    k = kw[j]\n",
    "\n",
    "    kernel_type = kernel_types[k]\n",
    "    q = 3 \n",
    "    Q = Q_list[q] # Q4\n",
    "    r_min, r_max = 1, 1\n",
    "    \n",
    "    print(\"sample size\", m)\n",
    "    print(\"kernel\", kernel_type)\n",
    "    print(\"number bandwidths\", R)\n",
    "    print(\"B1\", B1)\n",
    "    print(\"B2\", B2)\n",
    "    print(\"B3\", B3)\n",
    "    print(\" \")\n",
    "\n",
    "    jobs = [[[] for r in range(r_num)] for w in range(f_num)] \n",
    "\n",
    "    k = 1\n",
    "    for w in range(f_num):\n",
    "        function_type = function_types[w]\n",
    "        for r in range(r_num):\n",
    "            number_bandwidths = R[r]\n",
    "            for i in range(N_epochs):\n",
    "                seed = generate_seed(k, 2, 1, w, q, i)\n",
    "                jobs[w][r].append(sample_and_test_mnist(P, Q, function_type, seed, kernel_type, approx_type, m, n, \n",
    "                        alpha, r_min, r_max, B1, B2, B3, bandwidth_multipliers, number_bandwidths=number_bandwidths))\n",
    "    \n",
    "    results = [[jobs[w][r] for r in range(r_num)] for w in range(f_num)] \n",
    "    power   = [[sum(results[w][r]) / N_epochs for r in range(r_num)] for w in range(f_num)]\n",
    "    print(power)\n",
    "    \n",
    "    return power"
   ]
  },
  {
   "cell_type": "code",
   "execution_count": 21,
   "metadata": {
    "tags": []
   },
   "outputs": [
    {
     "name": "stdout",
     "output_type": "stream",
     "text": [
      "sample size 500\n",
      "kernel laplace_gaussian\n",
      "number bandwidths [10, 100, 1000]\n",
      "B1 500\n",
      "B2 500\n",
      "B3 100\n",
      " \n",
      "[[0.878, 0.878, 0.878]]\n"
     ]
    }
   ],
   "source": [
    "i = 0\n",
    "power = experiment10(i)\n",
    "np.save(\"results/exp10_\" + str(i) + \".npy\", power[0])"
   ]
  },
  {
   "cell_type": "code",
   "execution_count": 22,
   "metadata": {
    "tags": []
   },
   "outputs": [
    {
     "name": "stdout",
     "output_type": "stream",
     "text": [
      "sample size 500\n",
      "kernel laplace\n",
      "number bandwidths [10, 100, 1000]\n",
      "B1 500\n",
      "B2 500\n",
      "B3 100\n",
      " \n",
      "[[0.876, 0.874, 0.874]]\n"
     ]
    }
   ],
   "source": [
    "i = 1\n",
    "power = experiment10(i)\n",
    "np.save(\"results/exp10_\" + str(i) + \".npy\", power[0])"
   ]
  },
  {
   "cell_type": "code",
   "execution_count": 23,
   "metadata": {
    "tags": []
   },
   "outputs": [
    {
     "name": "stdout",
     "output_type": "stream",
     "text": [
      "sample size 500\n",
      "kernel gaussian\n",
      "number bandwidths [10, 100, 1000]\n",
      "B1 500\n",
      "B2 500\n",
      "B3 100\n",
      " \n",
      "[[0.882, 0.88, 0.88]]\n"
     ]
    }
   ],
   "source": [
    "i = 2\n",
    "power = experiment10(i)\n",
    "np.save(\"results/exp10_\" + str(i) + \".npy\", power[0])"
   ]
  },
  {
   "cell_type": "code",
   "execution_count": 24,
   "metadata": {
    "tags": []
   },
   "outputs": [
    {
     "name": "stdout",
     "output_type": "stream",
     "text": [
      "sample size 500\n",
      "kernel all\n",
      "number bandwidths [10, 100, 1000]\n",
      "B1 500\n",
      "B2 500\n",
      "B3 100\n",
      " \n",
      "[[0.868, 0.87, 0.87]]\n"
     ]
    }
   ],
   "source": [
    "i = 3\n",
    "power = experiment10(i)\n",
    "np.save(\"results/exp10_\" + str(i) + \".npy\", power[0])"
   ]
  }
 ],
 "metadata": {
  "kernelspec": {
   "display_name": "Python 3 (ipykernel)",
   "language": "python",
   "name": "python3"
  },
  "language_info": {
   "codemirror_mode": {
    "name": "ipython",
    "version": 3
   },
   "file_extension": ".py",
   "mimetype": "text/x-python",
   "name": "python",
   "nbconvert_exporter": "python",
   "pygments_lexer": "ipython3",
   "version": "3.9.16"
  }
 },
 "nbformat": 4,
 "nbformat_minor": 4
}

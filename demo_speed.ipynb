{
 "cells": [
  {
   "cell_type": "markdown",
   "id": "b2292cdf-bf3e-41b5-9983-490b8adc2cce",
   "metadata": {
    "tags": []
   },
   "source": [
    "# Demo"
   ]
  },
  {
   "cell_type": "code",
   "execution_count": 1,
   "id": "78b01140-9fa7-40a8-a653-4cd516951c75",
   "metadata": {
    "tags": []
   },
   "outputs": [],
   "source": [
    "# run for Jax GPU\n",
    "import numpy as np\n",
    "from mmdagg.jax import human_readable_dict\n",
    "from mmdagg.jax import mmdagg\n",
    "# from mmdagg.np import mmdagg\n",
    "from jax import random\n",
    "import jax.numpy as jnp\n",
    "X = jnp.array([1, 2])\n",
    "X.device()"
   ]
  },
  {
   "cell_type": "code",
   "execution_count": 2,
   "id": "765e39c4-96c1-4945-a655-49effa339e0d",
   "metadata": {
    "tags": []
   },
   "outputs": [],
   "source": [
    "# generate data\n",
    "key = random.PRNGKey(0)\n",
    "key, subkey = random.split(key)\n",
    "subkeys = random.split(subkey, num=2)\n",
    "X = random.uniform(subkeys[0], shape=(5000, 100))\n",
    "Y = random.uniform(subkeys[1], shape=(5000, 100)) + 1"
   ]
  },
  {
   "cell_type": "code",
   "execution_count": 3,
   "id": "6b44e490-e9f0-4dcb-9f75-c492ea06a39b",
   "metadata": {
    "tags": []
   },
   "outputs": [],
   "source": [
    "# compile function\n",
    "output, dictionary = mmdagg(X, Y, return_dictionary=True)\n",
    "# Numpy version (no compilation)\n",
    "# output, dictionary = agginc(\"mmd\", np.array(X), np.array(Y), return_dictionary=True)"
   ]
  },
  {
   "cell_type": "code",
   "execution_count": 4,
   "id": "df9c4cdc-b341-4010-a2ca-dda01decd1c3",
   "metadata": {
    "tags": []
   },
   "outputs": [
    {
     "name": "stdout",
     "output_type": "stream",
     "text": [
      "493 ms ± 3.54 ms per loop (mean ± std. dev. of 7 runs, 1 loop each)\n"
     ]
    }
   ],
   "source": [
    "# Now the function runs fast for any inputs X and Y of the compiled shaped (5000, 100)\n",
    "# If the shape is changed, the function will need to be compiled again\n",
    "key = random.PRNGKey(1) # different initialisation\n",
    "key, subkey = random.split(key)\n",
    "subkeys = random.split(subkey, num=2)\n",
    "X = random.uniform(subkeys[0], shape=(5000, 100))\n",
    "Y = random.uniform(subkeys[1], shape=(5000, 100)) + 1\n",
    "# see speed.ipynb for detailed speed comparision between numpy, jax cpu and jax gpu \n",
    "%timeit output, dictionary = mmdagg(X, Y, return_dictionary=True)"
   ]
  },
  {
   "cell_type": "code",
   "execution_count": null,
   "id": "fb8f1ef1-1867-411f-bf2d-9fe33aab26eb",
   "metadata": {},
   "outputs": [],
   "source": [
    "output, dictionary = mmdagg(X, Y, return_dictionary=True)"
   ]
  },
  {
   "cell_type": "code",
   "execution_count": 5,
   "id": "47060fa1-2e7c-44a0-822b-f7311cfa0108",
   "metadata": {
    "tags": []
   },
   "outputs": [
    {
     "name": "stdout",
     "output_type": "stream",
     "text": [
      "Array(1, dtype=int32)\n"
     ]
    }
   ],
   "source": [
    "# output is a jax array consisting of either 0 or 1\n",
    "output"
   ]
  },
  {
   "cell_type": "code",
   "execution_count": 6,
   "id": "e0e8afd9-72af-4972-ac0d-361f05d44040",
   "metadata": {
    "tags": []
   },
   "outputs": [
    {
     "name": "stdout",
     "output_type": "stream",
     "text": [
      "1\n"
     ]
    }
   ],
   "source": [
    "# to convert it to an int use: \n",
    "output.item()"
   ]
  },
  {
   "cell_type": "code",
   "execution_count": 7,
   "id": "4ced088b-46cb-4215-9871-7339c2f34228",
   "metadata": {
    "tags": []
   },
   "outputs": [
    {
     "name": "stdout",
     "output_type": "stream",
     "text": [
      "{'MMDAgg test reject': True,\n",
      " 'Single test 1.1': {'Bandwidth': 41.81019592285156,\n",
      "  'Kernel laplace': True,\n",
      "  'MMD': 0.7198492288589478,\n",
      "  'MMD quantile': 0.00036044654552824795,\n",
      "  'Reject': True,\n",
      "  'p-value': 0.0004997501382604241,\n",
      "  'p-value threshold': 0.061969008296728134},\n",
      " 'Single test 1.10': {'Bandwidth': 232.77978515625,\n",
      "  'Kernel laplace': True,\n",
      "  'MMD': 0.43212345242500305,\n",
      "  'MMD quantile': 0.00021708192070946097,\n",
      "  'Reject': True,\n",
      "  'p-value': 0.0004997501382604241,\n",
      "  'p-value threshold': 0.061969008296728134},\n",
      " 'Single test 1.2': {'Bandwidth': 50.5980339050293,\n",
      "  'Kernel laplace': True,\n",
      "  'MMD': 0.7591387033462524,\n",
      "  'MMD quantile': 0.0003822108847089112,\n",
      "  'Reject': True,\n",
      "  'p-value': 0.0004997501382604241,\n",
      "  'p-value threshold': 0.061969008296728134},\n",
      " 'Single test 1.3': {'Bandwidth': 61.232940673828125,\n",
      "  'Kernel laplace': True,\n",
      "  'MMD': 0.7708603143692017,\n",
      "  'MMD quantile': 0.00038869131822139025,\n",
      "  'Reject': True,\n",
      "  'p-value': 0.0004997501382604241,\n",
      "  'p-value threshold': 0.061969008296728134},\n",
      " 'Single test 1.4': {'Bandwidth': 74.10313415527344,\n",
      "  'Kernel laplace': True,\n",
      "  'MMD': 0.7576566338539124,\n",
      "  'MMD quantile': 0.0003807419561780989,\n",
      "  'Reject': True,\n",
      "  'p-value': 0.0004997501382604241,\n",
      "  'p-value threshold': 0.061969008296728134},\n",
      " 'Single test 1.5': {'Bandwidth': 89.67843627929688,\n",
      "  'Kernel laplace': True,\n",
      "  'MMD': 0.7241800427436829,\n",
      "  'MMD quantile': 0.0003628270060289651,\n",
      "  'Reject': True,\n",
      "  'p-value': 0.0004997501382604241,\n",
      "  'p-value threshold': 0.061969008296728134},\n",
      " 'Single test 1.6': {'Bandwidth': 108.52741241455078,\n",
      "  'Kernel laplace': True,\n",
      "  'MMD': 0.6759315133094788,\n",
      "  'MMD quantile': 0.00033875435474328697,\n",
      "  'Reject': True,\n",
      "  'p-value': 0.0004997501382604241,\n",
      "  'p-value threshold': 0.061969008296728134},\n",
      " 'Single test 1.7': {'Bandwidth': 131.33815002441406,\n",
      "  'Kernel laplace': True,\n",
      "  'MMD': 0.6183429956436157,\n",
      "  'MMD quantile': 0.0003100974718108773,\n",
      "  'Reject': True,\n",
      "  'p-value': 0.0004997501382604241,\n",
      "  'p-value threshold': 0.061969008296728134},\n",
      " 'Single test 1.8': {'Bandwidth': 158.943359375,\n",
      "  'Kernel laplace': True,\n",
      "  'MMD': 0.5561589598655701,\n",
      "  'MMD quantile': 0.0002790681610349566,\n",
      "  'Reject': True,\n",
      "  'p-value': 0.0004997501382604241,\n",
      "  'p-value threshold': 0.061969008296728134},\n",
      " 'Single test 1.9': {'Bandwidth': 192.35072326660156,\n",
      "  'Kernel laplace': True,\n",
      "  'MMD': 0.49316269159317017,\n",
      "  'MMD quantile': 0.00024763718829490244,\n",
      "  'Reject': True,\n",
      "  'p-value': 0.0004997501382604241,\n",
      "  'p-value threshold': 0.061969008296728134},\n",
      " 'Single test 2.1': {'Bandwidth': 4.58139181137085,\n",
      "  'Kernel gaussian': True,\n",
      "  'MMD': 0.9014045000076294,\n",
      "  'MMD quantile': 0.0004482886288315058,\n",
      "  'Reject': True,\n",
      "  'p-value': 0.0004997501382604241,\n",
      "  'p-value threshold': 0.061969008296728134},\n",
      " 'Single test 2.10': {'Bandwidth': 24.66503143310547,\n",
      "  'Kernel gaussian': True,\n",
      "  'MMD': 0.29515188932418823,\n",
      "  'MMD quantile': 0.00014810997527092695,\n",
      "  'Reject': True,\n",
      "  'p-value': 0.0004997501382604241,\n",
      "  'p-value threshold': 0.061969008296728134},\n",
      " 'Single test 2.2': {'Bandwidth': 5.523686408996582,\n",
      "  'Kernel gaussian': True,\n",
      "  'MMD': 1.1169050931930542,\n",
      "  'MMD quantile': 0.0005521028069779277,\n",
      "  'Reject': True,\n",
      "  'p-value': 0.0004997501382604241,\n",
      "  'p-value threshold': 0.061969008296728134},\n",
      " 'Single test 2.3': {'Bandwidth': 6.659790992736816,\n",
      "  'Kernel gaussian': True,\n",
      "  'MMD': 1.2296414375305176,\n",
      "  'MMD quantile': 0.0006131583359092474,\n",
      "  'Reject': True,\n",
      "  'p-value': 0.0004997501382604241,\n",
      "  'p-value threshold': 0.061969008296728134},\n",
      " 'Single test 2.4': {'Bandwidth': 8.029568672180176,\n",
      "  'Kernel gaussian': True,\n",
      "  'MMD': 1.216185212135315,\n",
      "  'MMD quantile': 0.0006084630149416625,\n",
      "  'Reject': True,\n",
      "  'p-value': 0.0004997501382604241,\n",
      "  'p-value threshold': 0.061969008296728134},\n",
      " 'Single test 2.5': {'Bandwidth': 9.681078910827637,\n",
      "  'Kernel gaussian': True,\n",
      "  'MMD': 1.0973907709121704,\n",
      "  'MMD quantile': 0.000557900290004909,\n",
      "  'Reject': True,\n",
      "  'p-value': 0.0004997501382604241,\n",
      "  'p-value threshold': 0.061969008296728134},\n",
      " 'Single test 2.6': {'Bandwidth': 11.672270774841309,\n",
      "  'Kernel gaussian': True,\n",
      "  'MMD': 0.9198189973831177,\n",
      "  'MMD quantile': 0.00047012767754495144,\n",
      "  'Reject': True,\n",
      "  'p-value': 0.0004997501382604241,\n",
      "  'p-value threshold': 0.061969008296728134},\n",
      " 'Single test 2.7': {'Bandwidth': 14.073007583618164,\n",
      "  'Kernel gaussian': True,\n",
      "  'MMD': 0.7287930846214294,\n",
      "  'MMD quantile': 0.00037037438596598804,\n",
      "  'Reject': True,\n",
      "  'p-value': 0.0004997501382604241,\n",
      "  'p-value threshold': 0.061969008296728134},\n",
      " 'Single test 2.8': {'Bandwidth': 16.967527389526367,\n",
      "  'Kernel gaussian': True,\n",
      "  'MMD': 0.5539634823799133,\n",
      "  'MMD quantile': 0.00027827415033243597,\n",
      "  'Reject': True,\n",
      "  'p-value': 0.0004997501382604241,\n",
      "  'p-value threshold': 0.061969008296728134},\n",
      " 'Single test 2.9': {'Bandwidth': 20.45738410949707,\n",
      "  'Kernel gaussian': True,\n",
      "  'MMD': 0.4086690843105316,\n",
      "  'MMD quantile': 0.00020498107187449932,\n",
      "  'Reject': True,\n",
      "  'p-value': 0.0004997501382604241,\n",
      "  'p-value threshold': 0.061969008296728134}}\n",
      "\n"
     ]
    }
   ],
   "source": [
    "human_readable_dict(dictionary) # use to convert jax arrays to scalars\n",
    "dictionary"
   ]
  },
  {
   "cell_type": "markdown",
   "id": "0cd15687-8197-42f7-a6fb-683850fdf198",
   "metadata": {
    "tags": []
   },
   "source": [
    "# Speed comparison"
   ]
  },
  {
   "cell_type": "markdown",
   "id": "02919422-ca76-40ec-a2dc-fc2faa0270f8",
   "metadata": {
    "tags": []
   },
   "source": [
    "## Imports"
   ]
  },
  {
   "cell_type": "markdown",
   "id": "44870f4b-5f30-4621-a4ab-6c0160f37ed6",
   "metadata": {},
   "source": [
    "Run only one of three next cells depending on whether to use Numpy CPU, Jax CPU or Jax GPU.\n",
    "\n",
    "The CPU used is an AMD Ryzen Threadripper 3960X 24 Cores 128Gb RAM at 3.8GHz.\n",
    "\n",
    "The GPU used is an NVIDIA RTX A5000 24Gb."
   ]
  },
  {
   "cell_type": "code",
   "execution_count": 1,
   "id": "5c1598ae-bada-4d83-a29a-c88cfc18b189",
   "metadata": {},
   "outputs": [],
   "source": [
    "# run for Numpy CPU\n",
    "import numpy as np\n",
    "from mmdagg.np import mmdagg\n",
    "from jax import random\n",
    "import jax.numpy as jnp\n",
    "%load_ext autoreload\n",
    "%autoreload 2"
   ]
  },
  {
   "cell_type": "code",
   "execution_count": 1,
   "id": "df1a4636-78b3-4bc0-be50-778c60c093ea",
   "metadata": {},
   "outputs": [
    {
     "name": "stderr",
     "output_type": "stream",
     "text": [
      "2023-02-07 12:18:06.087432: E external/org_tensorflow/tensorflow/compiler/xla/stream_executor/cuda/cuda_driver.cc:266] failed call to cuInit: CUDA_ERROR_NO_DEVICE: no CUDA-capable device is detected\n",
      "No GPU/TPU found, falling back to CPU. (Set TF_CPP_MIN_LOG_LEVEL=0 and rerun for more info.)\n"
     ]
    },
    {
     "data": {
      "text/plain": [
       "CpuDevice(id=0)"
      ]
     },
     "execution_count": 1,
     "metadata": {},
     "output_type": "execute_result"
    }
   ],
   "source": [
    "# run for Jax CPU\n",
    "import os\n",
    "os.environ['CUDA_VISIBLE_DEVICES'] = ''\n",
    "import numpy as np\n",
    "from mmdagg.jax import mmdagg\n",
    "from jax import random\n",
    "import jax.numpy as jnp\n",
    "%load_ext autoreload\n",
    "%autoreload 2\n",
    "X = jnp.array([1, 2])\n",
    "X.device()"
   ]
  },
  {
   "cell_type": "code",
   "execution_count": 1,
   "id": "2a17e174-747c-4249-a950-75442de4fcc8",
   "metadata": {},
   "outputs": [
    {
     "data": {
      "text/plain": [
       "StreamExecutorGpuDevice(id=0, process_index=0, slice_index=0)"
      ]
     },
     "execution_count": 1,
     "metadata": {},
     "output_type": "execute_result"
    }
   ],
   "source": [
    "# run for Jax GPU\n",
    "import numpy as np\n",
    "from mmdagg.jax import mmdagg\n",
    "from jax import random\n",
    "import jax.numpy as jnp\n",
    "%load_ext autoreload\n",
    "%autoreload 2\n",
    "X = jnp.array([1, 2])\n",
    "X.device()"
   ]
  },
  {
   "cell_type": "markdown",
   "id": "1f18c90f-d430-4b92-bde9-a98873e41775",
   "metadata": {
    "tags": []
   },
   "source": [
    "## MMDAgg Runtimes"
   ]
  },
  {
   "cell_type": "code",
   "execution_count": 2,
   "id": "78758346-9f95-4f80-81b4-5cbd7fdb903c",
   "metadata": {},
   "outputs": [],
   "source": [
    "key = random.PRNGKey(0)\n",
    "key, subkey = random.split(key)\n",
    "subkeys = random.split(subkey, num=2)\n",
    "X = random.uniform(subkeys[0], shape=(5000, 100))\n",
    "Y = random.uniform(subkeys[1], shape=(5000, 100)) + 1"
   ]
  },
  {
   "cell_type": "code",
   "execution_count": null,
   "id": "5cbbce66-3028-462a-83f9-1eebf2b667e3",
   "metadata": {},
   "outputs": [],
   "source": [
    "# run for Jax CPU and Jax GPU to compile the function\n",
    "# Do not run for Numpy CPU\n",
    "output, dictionary = mmdagg(X, Y, return_dictionary=True)"
   ]
  },
  {
   "cell_type": "code",
   "execution_count": 2,
   "id": "25c82695-1eea-44be-9221-45744e6d2708",
   "metadata": {},
   "outputs": [
    {
     "name": "stdout",
     "output_type": "stream",
     "text": [
      "43.1 s ± 69.9 ms per loop (mean ± std. dev. of 7 runs, 1 loop each)\n"
     ]
    }
   ],
   "source": [
    "# Numpy CPU\n",
    "%timeit mmdagg(np.array(X), np.array(Y), return_dictionary=True)"
   ]
  },
  {
   "cell_type": "code",
   "execution_count": 2,
   "id": "8dc6549a-3def-4465-bb8e-527da50fbce2",
   "metadata": {},
   "outputs": [
    {
     "name": "stdout",
     "output_type": "stream",
     "text": [
      "14.9 s ± 51.1 ms per loop (mean ± std. dev. of 7 runs, 1 loop each)\n"
     ]
    }
   ],
   "source": [
    "# Jax CPU\n",
    "%timeit mmdagg(X, Y, return_dictionary=True)"
   ]
  },
  {
   "cell_type": "code",
   "execution_count": 2,
   "id": "3a7a01d6-0076-46ec-accf-a3921d7d9ea3",
   "metadata": {
    "tags": []
   },
   "outputs": [
    {
     "name": "stdout",
     "output_type": "stream",
     "text": [
      "495 ms ± 4.56 ms per loop (mean ± std. dev. of 7 runs, 1 loop each)\n"
     ]
    }
   ],
   "source": [
    "# Jax GPU\n",
    "%timeit mmdagg(X, Y, return_dictionary=True) "
   ]
  }
 ],
 "metadata": {
  "kernelspec": {
   "display_name": "Python 3 (ipykernel)",
   "language": "python",
   "name": "python3"
  },
  "language_info": {
   "codemirror_mode": {
    "name": "ipython",
    "version": 3
   },
   "file_extension": ".py",
   "mimetype": "text/x-python",
   "name": "python",
   "nbconvert_exporter": "python",
   "pygments_lexer": "ipython3",
   "version": "3.9.16"
  }
 },
 "nbformat": 4,
 "nbformat_minor": 5
}

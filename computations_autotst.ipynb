{
 "cells": [
  {
   "cell_type": "markdown",
   "metadata": {
    "tags": []
   },
   "source": [
    "# Autotst experiments"
   ]
  },
  {
   "cell_type": "markdown",
   "metadata": {},
   "source": [
    "This notebook contains the experiments with the autotst test.\n",
    "\n",
    "The numbering of the experiments corresponds to the one in the file experiments.py.\n",
    "\n",
    "The results are saved in the \"results\" directiory."
   ]
  },
  {
   "cell_type": "code",
   "execution_count": null,
   "metadata": {},
   "outputs": [],
   "source": [
    "import numpy as np\n",
    "from seed import generate_seed\n",
    "from sampling import f_theta_sampler\n",
    "import autotst\n",
    "from pathlib import Path\n",
    "Path(\"results\").mkdir(exist_ok=True, parents=True)\n",
    "from mnist import load_mnist\n",
    "P, Q_list = load_mnist()"
   ]
  },
  {
   "cell_type": "code",
   "execution_count": null,
   "metadata": {
    "tags": []
   },
   "outputs": [],
   "source": [
    "def sample_and_test_uniform(\n",
    "    function_type, seed, kernel_type, approx_type, m, n, d, p, s, \n",
    "    perturbation_multiplier, alpha, l_minus, l_plus, B1, B2, B3, bandwidth_multipliers, number_bandwidths=10,\n",
    "):  \n",
    "    \"\"\"\n",
    "    Sample from uniform and perturbed uniform density and run two-sample test.\n",
    "    inputs: function_type: \"uniform\", \"increasing\", \"decreasing\", \"centred\", \"ost\", \n",
    "                           \"median\", \"split\", \"split (doubled sample sizes)\" or \"mmdagg_update\"\n",
    "            seed: integer random seed\n",
    "            kernel_type: \"gaussian\" or \"laplace\": \n",
    "            approx_type: \"permutation\" (for MMD_a estimate Eq. (3)) \n",
    "                         or \"wild bootstrap\" (for MMD_b estimate Eq. (6))\n",
    "            m: non-negative integer (sample size for uniform distribution)\n",
    "            n: non-negative integer (sample size for perturbed uniform distribution)\n",
    "            d: non-negative integer (dimension of samples)\n",
    "            p: non-negative integer (number of permutations)\n",
    "            s: positive number (smoothness parameter of Sobolev ball (Eq. (1))\n",
    "            perturbation_multiplier: perturbation_multiplier: positive number (c_d in Eq. (17)) \n",
    "            alpha: real number in (0,1) (level of the test)\n",
    "            l_minus: integer (for collection of bandwidths Eq. (16) in our paper)\n",
    "            l_plus: integer (for collection of bandwidths Eq. (16) in our paper)\n",
    "            B1: number of simulated test statistics to estimate the quantiles\n",
    "            B2: number of simulated test statistics to estimate the probability in Eq. (13) in our paper\n",
    "            B3: number of iterations for the bisection method\n",
    "            bandwidth_multipliers: array such that mmd_split_test function (used for \"split\" \n",
    "                                   and \"split (doubled sample sizes)\") selects 'optimal' bandwidth from\n",
    "                                   collection_bandwidths = [c*bandwidth_median for c in bandwidth_multipliers]\n",
    "    output: result of test (1 for \"REJECT H_0\" and 0 for \"FAIL TO REJECT H_0\")\n",
    "    \"\"\"\n",
    "    if function_type == \"split (doubled sample sizes)\":\n",
    "        m = 2 * m\n",
    "        n = 2 * n\n",
    "    rs = np.random.RandomState(seed)\n",
    "    if p == 0:\n",
    "        X = rs.uniform(0, 1, (m, d)) \n",
    "        Y = rs.uniform(0, 1, (n, d))         \n",
    "    else:\n",
    "        X = f_theta_sampler(seed + 1, seed + 2, m, p, s, perturbation_multiplier, d)\n",
    "        Y = rs.uniform(0, 1, (n, d))\n",
    "    if function_type == \"median\":\n",
    "        return mmd_median_test(\n",
    "            seed, X, Y, alpha, kernel_type, approx_type, B1, bandwidth_multiplier=1\n",
    "        )\n",
    "    elif function_type in [\"split\", \"split (doubled sample sizes)\"]:\n",
    "        return mmd_split_test(\n",
    "            seed, X, Y, alpha, kernel_type, approx_type, B1, bandwidth_multipliers\n",
    "        )\n",
    "    elif function_type == \"ost\":\n",
    "        return ost(seed, X, Y, alpha, kernel_type, l_minus, l_plus)\n",
    "    elif function_type in [\"uniform\", \"increasing\", \"decreasing\", \"centred\"]:\n",
    "        return mmdagg(\n",
    "            seed, X, Y, alpha, kernel_type, approx_type, \n",
    "            function_type, l_minus, l_plus, B1, B2, B3\n",
    "        )\n",
    "    elif function_type == \"mmdagg_update\":\n",
    "        if approx_type == \"permutation\":\n",
    "            permutations_same_sample_size = True\n",
    "        elif approx_type == \"wild bootstrap\" or approx_type == \"wild_bootstrap\": \n",
    "            permutations_same_sample_size = False\n",
    "        else:\n",
    "            raise ValueError('approx_type should be \"permutation\" or \"wild bootstrap\".')\n",
    "        return mmdagg_update(\n",
    "            X,\n",
    "            Y,\n",
    "            kernel=kernel_type,\n",
    "            B1=B1,\n",
    "            B2=B2,\n",
    "            B3=B3,\n",
    "            number_bandwidths=number_bandwidths,\n",
    "            seed=seed,\n",
    "            permutations_same_sample_size=permutations_same_sample_size,\n",
    "        )\n",
    "    elif function_type == \"autotst\":\n",
    "        tst = autotst.AutoTST(X, Y)\n",
    "        p_value = tst.p_value()\n",
    "        output = int(p_value <= alpha)\n",
    "        return output\n",
    "    else:\n",
    "        raise ValueError(\n",
    "            'Undefined function_type: function_type should be \"median\", \"split\",' \n",
    "            '\"split (doubled sample sizes)\", \"ost\", \"uniform\", \"increasing\", '\n",
    "            '\"decreasing\" or \"centred\".'\n",
    "        )  \n",
    "\n",
    "        \n",
    "def sample_and_test_mnist(\n",
    "    P, Q, function_type, seed, kernel_type, approx_type, m, n, \n",
    "    alpha, l_minus, l_plus, B1, B2, B3, bandwidth_multipliers, number_bandwidths=10,\n",
    "):  \n",
    "    \"\"\"\n",
    "    Sample from dataset P and dataset Q and run two-sample test.\n",
    "    inputs: P: dataset of shape (number_points, dimension) from which to sample\n",
    "            Q: dataset of shape (number_points, dimension) from which to sample\n",
    "            function_type: \"uniform\", \"increasing\", \"decreasing\", \"centred\", \"ost\", \n",
    "                           \"median\", \"split\" or \"split (doubled sample sizes)\"\n",
    "            seed: integer random seed\n",
    "            kernel_type: \"gaussian\" or \"laplace\":\n",
    "            approx_type: \"permutation\" (for MMD_a estimate Eq. (3)) \n",
    "                         or \"wild bootstrap\" (for MMD_b estimate Eq. (6))\n",
    "            m: non-negative integer (sample size for uniform distribution)\n",
    "            n: non-negative integer (sample size for perturbed uniform distribution)\n",
    "            alpha: real number in (0,1) (level of the test)\n",
    "            l_minus: integer (for collection of bandwidths Eq. (16) in our paper)\n",
    "            l_plus: integer (for collection of bandwidths Eq. (16) in our paper)\n",
    "            B1: number of simulated test statistics to estimate the quantiles\n",
    "            B2: number of simulated test statistics to estimate the probability in Eq. (13) in our paper\n",
    "            B3: number of iterations for the bisection method\n",
    "            bandwidth_multipliers: array such that mmd_split_test function (used for \"split\" \n",
    "                                   and \"split (doubled sample sizes)\") selects 'optimal' bandwidth from\n",
    "                                   collection_bandwidths = [c*bandwidth for c in bandwidth_multipliers]\n",
    "    output: result of test (1 for \"REJECT H_0\" and 0 for \"FAIL TO REJECT H_0\")\n",
    "    \"\"\"\n",
    "    rs = np.random.RandomState(seed)\n",
    "    if function_type == \"split (doubled sample sizes)\":\n",
    "        m = 2 * m\n",
    "        n = 2 * n \n",
    "    idx_X = rs.randint(len(P), size=m)\n",
    "    X = P[idx_X, :]\n",
    "    idx_Y = rs.randint(len(Q), size=n)\n",
    "    Y = Q[idx_Y, :]\n",
    "    if function_type == \"median\":\n",
    "        return mmd_median_test(\n",
    "            seed, X, Y, alpha, kernel_type, approx_type, B1, bandwidth_multiplier=1\n",
    "        )\n",
    "    elif function_type in [\"split\", \"split (doubled sample sizes)\"]:\n",
    "        return mmd_split_test(\n",
    "            seed, X, Y, alpha, kernel_type, approx_type, B1, bandwidth_multipliers\n",
    "        )\n",
    "    elif function_type == \"ost\":\n",
    "        return ost(seed, X, Y, alpha, kernel_type, l_minus, l_plus)\n",
    "    elif function_type in [\"uniform\", \"increasing\", \"decreasing\", \"centred\"]:\n",
    "        return mmdagg(\n",
    "            seed, X, Y, alpha, kernel_type, approx_type, \n",
    "            function_type, l_minus, l_plus, B1, B2, B3\n",
    "        )\n",
    "    elif function_type == \"mmdagg_update\":\n",
    "        if approx_type == \"permutation\":\n",
    "            permutations_same_sample_size = True\n",
    "        elif approx_type == \"wild bootstrap\" or approx_type == \"wild_bootstrap\": \n",
    "            permutations_same_sample_size = False\n",
    "        else:\n",
    "            raise ValueError('approx_type should be \"permutation\" or \"wild bootstrap\".')\n",
    "        return mmdagg_update(\n",
    "            X,\n",
    "            Y,\n",
    "            kernel=kernel_type,\n",
    "            B1=B1,\n",
    "            B2=B2,\n",
    "            B3=B3,\n",
    "            number_bandwidths=number_bandwidths,\n",
    "            seed=seed,\n",
    "            permutations_same_sample_size=permutations_same_sample_size,\n",
    "        )\n",
    "    elif function_type == \"autotst\":\n",
    "        tst = autotst.AutoTST(X, Y)\n",
    "        p_value = tst.p_value()\n",
    "        output = int(p_value <= alpha)\n",
    "        return output\n",
    "    else:\n",
    "        raise ValueError(\n",
    "            'Undefined function_type: function_type should be \"median\", \"split\",' \n",
    "            '\"split (doubled sample sizes)\", \"ost\", \"uniform\", \"increasing\", '\n",
    "            '\"decreasing\" or \"centred\".'\n",
    "        )"
   ]
  },
  {
   "cell_type": "markdown",
   "metadata": {
    "tags": []
   },
   "source": [
    "# Experiment 1"
   ]
  },
  {
   "cell_type": "markdown",
   "metadata": {},
   "source": [
    "Figure 3a, Figure 3b"
   ]
  },
  {
   "cell_type": "code",
   "execution_count": null,
   "metadata": {},
   "outputs": [],
   "source": [
    "def experiment1(j, approx_type=\"wild bootstrap\"):\n",
    "    \n",
    "    number_bandwidths = 10\n",
    "    B1 = B2 = 2000\n",
    "    B3 = 50\n",
    "    kernel_types = [\"autotst\",]\n",
    "    \n",
    "    dataset = \"uniform\"\n",
    "    bandwidth_multipliers = None\n",
    "    sample_sizes = [500, 2000]\n",
    "    N_epochs = 500\n",
    "    alpha = 0.05\n",
    "    delta = 1\n",
    "    perturbation_multipliers = [2.7, 7.3]\n",
    "    perturbations = [4, 3]\n",
    "    R = [(0, 10), ]\n",
    "    r_num = len(R)\n",
    "    k_num = len(kernel_types)\n",
    "    function_types = [\"autotst\", ]\n",
    "    f_num = len(function_types)\n",
    "    if approx_type == \"wild bootstrap\":\n",
    "        app = \"a\"\n",
    "    elif approx_type == \"permutation\":\n",
    "        app = \"b\"\n",
    "        \n",
    "    ekr = [(e,k,r) for e in range(2) for k in range(k_num) for r in range(r_num)]\n",
    "    e,k,r = ekr[j]\n",
    "\n",
    "    d = e + 1\n",
    "    p_num = perturbations[e]\n",
    "    perturbation_multiplier = perturbation_multipliers[e]\n",
    "    kernel_type = kernel_types[k]\n",
    "    r_min, r_max = R[r]\n",
    "    n = m = sample_sizes[e]\n",
    "  \n",
    "    print(\"sample size\", sample_sizes[e])\n",
    "    print(kernel_type)\n",
    "    print(\" \")\n",
    "\n",
    "    jobs = [[[] for p in range(p_num)] for w in range(f_num)] \n",
    "\n",
    "    k = 1\n",
    "    for w in range(f_num):\n",
    "        function_type = function_types[w]\n",
    "        for p in range(p_num):\n",
    "            for i in range(N_epochs):\n",
    "                seed = generate_seed(k, e, r, w, p, i)\n",
    "                jobs[w][p].append(sample_and_test_uniform( \n",
    "                    function_type, \n",
    "                    seed, \n",
    "                    kernel_type, \n",
    "                    approx_type, \n",
    "                    m, n, d, p + 1, delta, perturbation_multiplier, \n",
    "                    alpha, r_min, r_max, B1, B2, B3, \n",
    "                    bandwidth_multipliers,\n",
    "                    number_bandwidths=number_bandwidths,\n",
    "                ))\n",
    "\n",
    "    results = [[jobs[w][p] for p in range(p_num)] for w in range(f_num)] \n",
    "    power   = [[sum(results[w][p]) / N_epochs for p in range(p_num)] for w in range(f_num)]\n",
    "    print(power)\n",
    " \n",
    "    return power"
   ]
  },
  {
   "cell_type": "code",
   "execution_count": 1,
   "metadata": {
    "tags": []
   },
   "outputs": [
    {
     "name": "stdout",
     "output_type": "stream",
     "text": [
      "sample size 500\n",
      "autotst\n",
      " \n",
      "[[1.0, 0.794, 0.344, 0.154]]\n"
     ]
    }
   ],
   "source": [
    "i = 0\n",
    "power = experiment1(i)\n",
    "np.save(\"results/autotst_exp1_\" + str(i) + \".npy\", power[0])"
   ]
  },
  {
   "cell_type": "code",
   "execution_count": 2,
   "metadata": {
    "tags": []
   },
   "outputs": [
    {
     "name": "stdout",
     "output_type": "stream",
     "text": [
      "sample size 2000\n",
      "autotst\n",
      " \n",
      "[[1.0, 0.312, 0.074]]\n"
     ]
    }
   ],
   "source": [
    "i = 1\n",
    "power = experiment1(i)\n",
    "np.save(\"results/autotst_exp1_\" + str(i) + \".npy\", power[0])"
   ]
  },
  {
   "cell_type": "markdown",
   "metadata": {
    "tags": []
   },
   "source": [
    "# Experiment 2"
   ]
  },
  {
   "cell_type": "markdown",
   "metadata": {},
   "source": [
    "Figure 3c"
   ]
  },
  {
   "cell_type": "code",
   "execution_count": 7,
   "metadata": {},
   "outputs": [],
   "source": [
    "from mnist import load_mnist\n",
    "P, Q_list = load_mnist()"
   ]
  },
  {
   "cell_type": "code",
   "execution_count": 15,
   "metadata": {},
   "outputs": [],
   "source": [
    "# nope\n",
    "@\n",
    "def experiment2(j, approx_type=\"wild bootstrap\"):\n",
    "    \n",
    "    number_bandwidths = 10\n",
    "    B1 = B2 = 2000\n",
    "    B3 = 50\n",
    "    kernel_types = [\"autotst\",]\n",
    "    \n",
    "    dataset = \"mnist\"\n",
    "    bandwidth_multipliers = None\n",
    "    n = m = 500\n",
    "    N_epochs = 500\n",
    "    alpha = 0.05\n",
    "    delta = 1\n",
    "    R = [[(8,12), (10,14), (12,16)], [(10,14), (12,16), (14,18)]] \n",
    "    assert len(R[0]) == len(R[1])\n",
    "    r_num = 1\n",
    "    k_num = len(kernel_types)\n",
    "    function_types = [\"autotst\", ]\n",
    "    f_num = len(function_types)\n",
    "    q_num = len(Q_list)\n",
    "    if approx_type == \"wild bootstrap\":\n",
    "        app = \"a\"\n",
    "    elif approx_type == \"permutation\":\n",
    "        app = \"b\"\n",
    "        \n",
    "    kr = [(k,r) for k in range(k_num) for r in range(r_num)]\n",
    "    k,r = kr[j]\n",
    "\n",
    "    kernel_type = kernel_types[k]\n",
    "    r_min, r_max = 0, 1\n",
    "    \n",
    "    print(\"sample size\", m)\n",
    "    print(kernel_type)\n",
    "    print(\" \")\n",
    "\n",
    "    jobs = [[[] for q in range(q_num)] for w in range(f_num)] \n",
    "    \n",
    "    k = 1\n",
    "    for q in range(q_num):\n",
    "        for w in range(f_num):\n",
    "            function_type = function_types[w]\n",
    "            for i in range(N_epochs):\n",
    "                seed = generate_seed(k, 2, r, w, q, i)\n",
    "                jobs[w][q].append(sample_and_test_mnist(P, Q_list[q], function_type, seed, kernel_type, approx_type, m, n, \n",
    "                        alpha, r_min, r_max, B1, B2, B3, bandwidth_multipliers, number_bandwidths=number_bandwidths))\n",
    "    \n",
    "    results = [[jobs[w][q] for q in range(q_num)] for w in range(f_num)]\n",
    "    power   = [[sum(results[w][q]) / N_epochs for q in range(q_num)] for w in range(f_num)]\n",
    "    print(power)\n",
    "    \n",
    "    return power"
   ]
  },
  {
   "cell_type": "code",
   "execution_count": 3,
   "metadata": {
    "tags": []
   },
   "outputs": [
    {
     "name": "stdout",
     "output_type": "stream",
     "text": [
      "sample size 500\n",
      "autotst\n",
      " \n",
      "[[1.0, 1.0, 0.992, 0.934, 0.312]]\n"
     ]
    }
   ],
   "source": [
    "i = 0\n",
    "power = experiment2(i)\n",
    "np.save(\"results/autotst_exp2_\" + str(i) + \".npy\", power[0])"
   ]
  },
  {
   "cell_type": "markdown",
   "metadata": {
    "tags": []
   },
   "source": [
    "# Experiment 5"
   ]
  },
  {
   "cell_type": "code",
   "execution_count": 19,
   "metadata": {},
   "outputs": [],
   "source": [
    "def experiment5(j, approx_type=\"wild bootstrap\"):\n",
    "    \n",
    "    number_bandwidths = 10\n",
    "    B1 = B2 = 2000\n",
    "    B3 = 50\n",
    "    kernel_types = [\"autotst\",]\n",
    "    \n",
    "    dataset = \"butucea\"\n",
    "    bandwidth_multipliers = np.linspace(0.1,1,10)\n",
    "    sample_sizes = [500, 2000]\n",
    "    N_epochs = 5000\n",
    "    alpha = 0.05\n",
    "    delta = 1\n",
    "    perturbation_multipliers = [2.7, 7.3]\n",
    "    perturbations = [4,3]\n",
    "    R = [(-4,-0)]\n",
    "    r_num = len(R)\n",
    "    k_num = len(kernel_types)\n",
    "    function_types = [\"autotst\",]\n",
    "    f_num = len(function_types)\n",
    "    if approx_type == \"wild bootstrap\":\n",
    "        app = \"a\"\n",
    "    elif approx_type == \"permutation\":\n",
    "        app = \"b\"\n",
    "        \n",
    "    ekr = [(e,k,r) for e in range(2) for k in range(k_num) for r in range(r_num)]\n",
    "    e,k,r = ekr[j]\n",
    "\n",
    "    d = e + 1\n",
    "    p_num = perturbations[e]\n",
    "    perturbation_multiplier = perturbation_multipliers[e]\n",
    "    kernel_type = kernel_types[k]\n",
    "    r_min, r_max = R[r]\n",
    "    n = m = sample_sizes[e]\n",
    "    \n",
    "    print(\"sample size\", sample_sizes[e])\n",
    "    print(kernel_type)\n",
    "    print(\" \")\n",
    "    \n",
    "    jobs = [[] for w in range(f_num)] \n",
    "    \n",
    "    k = 1\n",
    "    for w in range(f_num):\n",
    "        function_type = function_types[w]\n",
    "        for i in range(N_epochs):\n",
    "            seed = generate_seed(k, e, r, w, 5, i) \n",
    "            jobs[w].append(sample_and_test_uniform( \n",
    "                function_type,\n",
    "                seed,\n",
    "                kernel_type,\n",
    "                approx_type,\n",
    "                m, n, d, 0, delta, perturbation_multiplier,\n",
    "                alpha, r_min, r_max, B1, B2, B3,\n",
    "                bandwidth_multipliers,\n",
    "                number_bandwidths=number_bandwidths,\n",
    "            ))\n",
    "    \n",
    "    results = [jobs[w] for w in range(f_num)] \n",
    "    power   = [sum(results[w]) / N_epochs for w in range(f_num)]\n",
    "    print(power)\n",
    "\n",
    "    return power"
   ]
  },
  {
   "cell_type": "code",
   "execution_count": 4,
   "metadata": {
    "tags": []
   },
   "outputs": [
    {
     "name": "stdout",
     "output_type": "stream",
     "text": [
      "sample size 500\n",
      "autotst\n",
      " \n",
      "[0.0462]\n"
     ]
    }
   ],
   "source": [
    "i = 0\n",
    "power = experiment5(i)\n",
    "np.save(\"results/autotst_exp5_\" + str(i) + \".npy\", power)"
   ]
  },
  {
   "cell_type": "code",
   "execution_count": 5,
   "metadata": {
    "tags": []
   },
   "outputs": [
    {
     "name": "stdout",
     "output_type": "stream",
     "text": [
      "sample size 2000\n",
      "autotst\n",
      " \n",
      "[0.051]\n"
     ]
    }
   ],
   "source": [
    "i = 1\n",
    "power = experiment5(i)\n",
    "np.save(\"results/autotst_exp5_\" + str(i) + \".npy\", power)"
   ]
  },
  {
   "cell_type": "markdown",
   "metadata": {
    "tags": []
   },
   "source": [
    "# Experiment 6"
   ]
  },
  {
   "cell_type": "code",
   "execution_count": 36,
   "metadata": {},
   "outputs": [],
   "source": [
    "def experiment6(j, approx_type=\"wild bootstrap\"):\n",
    "    \n",
    "    number_bandwidths = 10\n",
    "    B1 = B2 = 2000\n",
    "    B3 = 50\n",
    "    kernel_types = [\"autotst\",]\n",
    "    \n",
    "    dataset = \"mnist\"\n",
    "    bandwidth_multipliers = [2**i for i in range(10,21)]\n",
    "    n = m = 500\n",
    "    N_epochs = 5000\n",
    "    alpha = 0.05\n",
    "    delta = 1\n",
    "    R = [[(10,14)], [(12,16)]] \n",
    "    assert len(R[0]) == len(R[1])\n",
    "    r_num = len(R[0])\n",
    "    k_num = len(kernel_types)\n",
    "    function_types = [\"autotst\", ]\n",
    "    f_num = len(function_types)\n",
    "    q_num = len(Q_list)\n",
    "    if approx_type == \"wild bootstrap\":\n",
    "        app = \"a\"\n",
    "    elif approx_type == \"permutation\":\n",
    "        app = \"b\"\n",
    "        \n",
    "    kr = [(k,r) for k in range(k_num) for r in range(r_num)]\n",
    "    k,r = kr[j]\n",
    "\n",
    "    kernel_type = kernel_types[k]\n",
    "    r_min, r_max = 1, 1\n",
    "    \n",
    "    print(\"sample size\", m)\n",
    "    print(kernel_type)\n",
    "    print(\" \")\n",
    "\n",
    "    jobs = [[]  for w in range(f_num)] \n",
    "    \n",
    "    k = 1\n",
    "    for w in range(f_num):\n",
    "        function_type = function_types[w]\n",
    "        for i in range(N_epochs):\n",
    "            seed = generate_seed(k, 2, r, w, 5, i)\n",
    "            jobs[w].append(sample_and_test_mnist(P, P, function_type, seed, kernel_type, approx_type, m, n, \n",
    "                    alpha, r_min, r_max, B1, B2, B3, bandwidth_multipliers, number_bandwidths=number_bandwidths))\n",
    "    \n",
    "    results = [jobs[w] for w in range(f_num)] \n",
    "    power   = [sum(results[w]) / N_epochs for w in range(f_num)]\n",
    "    print(power)\n",
    "    \n",
    "    return power"
   ]
  },
  {
   "cell_type": "code",
   "execution_count": 6,
   "metadata": {
    "tags": []
   },
   "outputs": [
    {
     "name": "stdout",
     "output_type": "stream",
     "text": [
      "sample size 500\n",
      "autotst\n",
      " \n",
      "[0.0518]\n"
     ]
    }
   ],
   "source": [
    "i = 0\n",
    "power = experiment6(i)\n",
    "np.save(\"results/autotst_exp6_\" + str(i) + \".npy\", power)"
   ]
  }
 ],
 "metadata": {
  "kernelspec": {
   "display_name": "Python 3 (ipykernel)",
   "language": "python",
   "name": "python3"
  },
  "language_info": {
   "codemirror_mode": {
    "name": "ipython",
    "version": 3
   },
   "file_extension": ".py",
   "mimetype": "text/x-python",
   "name": "python",
   "nbconvert_exporter": "python",
   "pygments_lexer": "ipython3",
   "version": "3.9.16"
  }
 },
 "nbformat": 4,
 "nbformat_minor": 4
}
